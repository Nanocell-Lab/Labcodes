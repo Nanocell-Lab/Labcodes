{
 "cells": [
  {
   "cell_type": "markdown",
   "metadata": {},
   "source": [
    "# OpenMM Molecular Dynamics Simulation\n",
    "OpenMM Molecular Dynamics Simulation of PDB protein and solvent OPC\n",
    "* Laboratorio de diseño de fármacos Nanocell\n",
    "* https://www.nanocell.cl\n",
    "* Dr. Alexis Salas Burgos\n",
    "* v.1\n",
    "* October 2021"
   ]
  },
  {
   "cell_type": "markdown",
   "metadata": {},
   "source": [
    "# OpenMM \n",
    "https://openmm.org\n",
    "## Requirements\n",
    "* test_version = 7.6\n",
    "* conda create -n OpenMM -c conda-forge openmm -y\n",
    "* conda activate OpenMM"
   ]
  },
  {
   "cell_type": "code",
   "execution_count": 1,
   "metadata": {},
   "outputs": [],
   "source": [
    "# Preparing\n",
    "import os\n",
    "#neccesary to collect the output\n",
    "pdb_code = '1AKI'\n",
    "os.chdir(\"../run\")\n",
    "new_dir = \"{0}_openmm\".format(pdb_code)\n",
    "try: os.mkdir(new_dir)\n",
    "except:pass\n",
    "os.chdir(new_dir)\n",
    "cmd1 = \"wget https://files.rcsb.org/download/{0}.pdb\".format(pdb_code)\n",
    "cmd2 = \"grep -v HOH {0}.pdb > {0}_clean.pdb\".format(pdb_code)\n",
    "cmd3 = \"conda activate AmberTools21 && packmol-memgen --pdb {0}_clean.pdb --solvate --cubic --dist 15 --salt \\\n",
    "--saltcon 0.15 --minimize  --ffwat opc --ffprot ff19SB --overwrite && conda deactivate\".format(pdb_code)"
   ]
  },
  {
   "cell_type": "code",
   "execution_count": 2,
   "metadata": {},
   "outputs": [
    {
     "name": "stdout",
     "output_type": "stream",
     "text": [
      "conda activate AmberTools21 && packmol-memgen --pdb 1AKI_clean.pdb --solvate --cubic --dist 15 --salt --saltcon 0.15 --minimize  --ffwat opc --ffprot ff19SB --overwrite && conda deactivate\n"
     ]
    }
   ],
   "source": [
    "# Running\n",
    "os.system(cmd1)\n",
    "os.system(cmd2)\n",
    "#To running in the run folder from the terminal\n",
    "print(cmd3)"
   ]
  },
  {
   "cell_type": "code",
   "execution_count": 2,
   "metadata": {},
   "outputs": [
    {
     "name": "stdout",
     "output_type": "stream",
     "text": [
      "openmm\n",
      "/Users/alsalas/GDrive/Github/Labcodes/Dynamics/Molecular_Dynamics_Simulation/run/1AKI_openmm\n"
     ]
    }
   ],
   "source": [
    "import os\n",
    "print (os.environ['CONDA_DEFAULT_ENV'])\n",
    "print (os.getcwd())"
   ]
  },
  {
   "cell_type": "markdown",
   "metadata": {},
   "source": [
    "# Running local 100ps"
   ]
  },
  {
   "cell_type": "code",
   "execution_count": 5,
   "metadata": {},
   "outputs": [
    {
     "name": "stdout",
     "output_type": "stream",
     "text": [
      "Minimizing...\n",
      "Equilibrating...\n",
      "Running Production...\n",
      "#\"Progress (%)\"\t\"Step\"\t\"Potential Energy (kJ/mole)\"\t\"Temperature (K)\"\t\"Speed (ns/day)\"\t\"Time Remaining\"\n",
      "20.0%\t1000\t-997625.0882364437\t277.8884240300405\t0\t--\n",
      "40.0%\t2000\t-984854.559056716\t293.55304684125974\t6.14\t1:24\n",
      "60.0%\t3000\t-983567.8189736716\t299.24147591389504\t6.14\t0:56\n",
      "80.0%\t4000\t-983531.6000890601\t301.8382668772872\t6.14\t0:28\n",
      "100.0%\t5000\t-983579.0472039524\t300.9168957851998\t6.14\t0:00\n",
      "Done!\n"
     ]
    }
   ],
   "source": [
    "from __future__ import print_function\n",
    "from openmm import app\n",
    "import openmm as mm\n",
    "from openmm import unit\n",
    "from sys import stdout\n",
    "\n",
    "# load in Amber input files\n",
    "prmtop = app.AmberPrmtopFile('solvated_1AKI_clean_wat.top')\n",
    "inpcrd = app.AmberInpcrdFile('solvated_1AKI_clean_wat.crd')\n",
    "\n",
    "# prepare system and integrator\n",
    "system = prmtop.createSystem(nonbondedMethod=app.PME,\n",
    "    nonbondedCutoff=1.0*unit.nanometers, constraints=app.HBonds, rigidWater=True,\n",
    "    ewaldErrorTolerance=0.0005)\n",
    "integrator = mm.LangevinIntegrator(300*unit.kelvin, 1.0/unit.picoseconds,\n",
    "    2.0*unit.femtoseconds)\n",
    "integrator.setConstraintTolerance(0.00001)\n",
    "\n",
    "# prepare simulation\n",
    "#platform = mm.Platform.getPlatformByName('CUDA')\n",
    "#properties = {'CudaPrecision': 'mixed'}\n",
    "# Graphic card from Macosx\n",
    "platform = mm.Platform.getPlatformByName('OpenCL')\n",
    "properties = {'Precision': 'mixed'}\n",
    "simulation = app.Simulation(prmtop.topology, system, integrator, platform,\n",
    "    properties)\n",
    "simulation.context.setPositions(inpcrd.positions)\n",
    "\n",
    "# minimize\n",
    "print('Minimizing...')\n",
    "simulation.minimizeEnergy()\n",
    "\n",
    "# equilibrate for 100 steps\n",
    "simulation.context.setVelocitiesToTemperature(300*unit.kelvin)\n",
    "print('Equilibrating...')\n",
    "simulation.step(100)\n",
    "\n",
    "# append reporters\n",
    "simulation.reporters.append(app.DCDReporter('trajectory_100ps.dcd', 1000))\n",
    "simulation.reporters.append(app.StateDataReporter(stdout, 1000, step=True,\n",
    "    potentialEnergy=True, temperature=True, progress=True, remainingTime=True,\n",
    "    speed=True, totalSteps=50000, separator='\\t'))\n",
    "\n",
    "# run 10 ps of production simulation\n",
    "# \n",
    "print('Running Production...')\n",
    "simulation.step(50000)\n",
    "print('Done!')"
   ]
  },
  {
   "cell_type": "markdown",
   "metadata": {},
   "source": [
    "# Running in a GPU Cluster"
   ]
  },
  {
   "cell_type": "code",
   "execution_count": 12,
   "metadata": {},
   "outputs": [
    {
     "name": "stdout",
     "output_type": "stream",
     "text": [
      "Writing openmm_10ns.py\n"
     ]
    }
   ],
   "source": [
    "%%writefile openmm_10ns.py\n",
    "from __future__ import print_function\n",
    "from openmm import app\n",
    "import openmm as mm\n",
    "from openmm import unit\n",
    "from sys import stdout\n",
    "\n",
    "# load in Amber input files\n",
    "prmtop = app.AmberPrmtopFile('solvated_1AKI_clean_wat.top')\n",
    "inpcrd = app.AmberInpcrdFile('solvated_1AKI_clean_wat.crd')\n",
    "\n",
    "# prepare system and integrator\n",
    "system = prmtop.createSystem(nonbondedMethod=app.PME,\n",
    "    nonbondedCutoff=1.0*unit.nanometers, constraints=app.HBonds, rigidWater=True,\n",
    "    ewaldErrorTolerance=0.0005)\n",
    "integrator = mm.LangevinIntegrator(300*unit.kelvin, 1.0/unit.picoseconds,\n",
    "    2.0*unit.femtoseconds)\n",
    "integrator.setConstraintTolerance(0.00001)\n",
    "\n",
    "# prepare simulation\n",
    "platform = mm.Platform.getPlatformByName('CUDA')\n",
    "properties = {'CudaPrecision': 'mixed'}\n",
    "# Graphic card from Macosx\n",
    "#platform = mm.Platform.getPlatformByName('OpenCL')\n",
    "#properties = {'Precision': 'mixed'}\n",
    "simulation = app.Simulation(prmtop.topology, system, integrator, platform,\n",
    "    properties)\n",
    "simulation.context.setPositions(inpcrd.positions)\n",
    "\n",
    "# minimize\n",
    "print('Minimizing...')\n",
    "simulation.minimizeEnergy()\n",
    "\n",
    "# equilibrate for 1000 steps\n",
    "simulation.context.setVelocitiesToTemperature(300*unit.kelvin)\n",
    "print('Equilibrating...')\n",
    "simulation.step(1000)\n",
    "\n",
    "# append reporters\n",
    "simulation.reporters.append(app.DCDReporter('trajectory_10ns.dcd', 5000))\n",
    "simulation.reporters.append(app.StateDataReporter(stdout, 5000, step=True,\n",
    "    potentialEnergy=True, temperature=True, progress=True, remainingTime=True,\n",
    "    speed=True, totalSteps=5000000, separator='\\t'))\n",
    "\n",
    "# run 10 ns of production simulation\n",
    "# \n",
    "print('Running Production...')\n",
    "simulation.step(5000000)\n",
    "print('Done!')"
   ]
  },
  {
   "cell_type": "code",
   "execution_count": 16,
   "metadata": {},
   "outputs": [
    {
     "name": "stdout",
     "output_type": "stream",
     "text": [
      "Writing openmm_10ns.sch\n"
     ]
    }
   ],
   "source": [
    "%%writefile openmm_10ns.sch\n",
    "#!/bin/bash\n",
    "#SBATCH -J OMM\n",
    "#SBATCH --partition=defq\n",
    "#SBATCH --nodes=1\n",
    "#SBATCH --tasks-per-node=20\n",
    "#SBATCH --gres=gpu:4\n",
    "\n",
    "module load mdynamics/openmm/7.6.0\n",
    "\n",
    "python openmm_10ns.py"
   ]
  },
  {
   "cell_type": "code",
   "execution_count": 4,
   "metadata": {},
   "outputs": [],
   "source": [
    "def create_dir(nombre=\"OpenMM\"):\n",
    "    from time import strftime\n",
    "    import os\n",
    "    fecha = strftime(\"%Y%j_%H%M%S\")\n",
    "    directorio_pdbs = fecha + \"_\" + nombre\n",
    "    os.mkdir(directorio_pdbs)\n",
    "    return directorio_pdbs\n",
    "\n",
    "def compress(directorio):\n",
    "    import tarfile\n",
    "    outfile = \"%s.tar.gz\" % directorio\n",
    "    tar = tarfile.open(outfile, \"w:gz\")\n",
    "    tar.add(directorio, arcname=directorio)\n",
    "    tar.close()\n",
    "    return outfile"
   ]
  },
  {
   "cell_type": "code",
   "execution_count": 5,
   "metadata": {},
   "outputs": [
    {
     "name": "stdout",
     "output_type": "stream",
     "text": [
      "/Users/alsalas/GDrive/Github/Labcodes/Dynamics/Molecular_Dynamics_Simulation/run/1AKI_openmm\n",
      "scp -rC 2021304_124328_OpenMM.tar.gz 152.00.00.00:\n",
      "gobender\n",
      "scp -rC 2021304_124328_OpenMM.tar.gz 152.00.00.00:\n",
      "gocluster\n",
      "tar -xzvf 2021304_124328_OpenMM.tar.gz\n",
      "cd 2021304_124328_OpenMM\n",
      "sbatch openmm_10ns.sch\n"
     ]
    }
   ],
   "source": [
    "import shutil\n",
    "import os\n",
    "#replace these values\n",
    "ipbender  = \"152.00.00.00\"\n",
    "ipcluster = \"152.00.00.00\"\n",
    "\n",
    "directorio = create_dir()\n",
    "files = ['solvated_{0}_clean_wat.top'.format(pdb_code),'solvated_{0}_clean_wat.crd'.format(pdb_code),\n",
    "         'openmm_10ns.sch','openmm_10ns.py']\n",
    "for f in files:\n",
    "    shutil.copy(f, directorio)\n",
    "out_compress_folder = compress(directorio)\n",
    "print(os.getcwd())\n",
    "print(\"scp -rC {0} {1}:\".format(out_compress_folder, ipbender))\n",
    "print(\"gobender\")\n",
    "print(\"scp -rC {0} {1}:\".format(out_compress_folder, ipcluster))\n",
    "print(\"gocluster\")\n",
    "print(\"tar -xzvf {0}\".format(out_compress_folder))\n",
    "print(\"cd {0}\".format(out_compress_folder[:-7]))\n",
    "print(\"sbatch openmm_10ns.sch\")"
   ]
  }
 ],
 "metadata": {
  "kernelspec": {
   "display_name": "Python 3 (ipykernel)",
   "language": "python",
   "name": "python3"
  },
  "language_info": {
   "codemirror_mode": {
    "name": "ipython",
    "version": 3
   },
   "file_extension": ".py",
   "mimetype": "text/x-python",
   "name": "python",
   "nbconvert_exporter": "python",
   "pygments_lexer": "ipython3",
   "version": "3.9.7"
  }
 },
 "nbformat": 4,
 "nbformat_minor": 4
}
