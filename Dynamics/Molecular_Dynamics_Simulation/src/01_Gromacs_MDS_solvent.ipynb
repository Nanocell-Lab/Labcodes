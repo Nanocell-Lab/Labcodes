{
 "cells": [
  {
   "cell_type": "markdown",
   "metadata": {},
   "source": [
    "# Gromacs Molecular Dynamics Simulation\n",
    "Gromacs Molecular Dynamics Simulation of PDB protein and solvent OPC\n",
    "* Laboratorio de diseño de fármacos Nanocell\n",
    "* https://www.nanocell.cl\n",
    "* Dr. Alexis Salas Burgos\n",
    "* v.1\n",
    "* October 2021"
   ]
  },
  {
   "cell_type": "markdown",
   "metadata": {},
   "source": [
    "Adapted from: http://www.mdtutorials.com/gmx/lysozyme"
   ]
  },
  {
   "cell_type": "markdown",
   "metadata": {},
   "source": [
    "# Gromacs\n",
    "http://www.gromacs.org\n",
    "## Requirements\n",
    "* test_version = 2021.3\n",
    "* conda create -n Gromacs21 -c bioconda gromacs -y\n",
    "* conda activate Gromacs21"
   ]
  },
  {
   "cell_type": "markdown",
   "metadata": {},
   "source": [
    "# 1. Make a Ensembl"
   ]
  },
  {
   "cell_type": "code",
   "execution_count": 4,
   "metadata": {},
   "outputs": [],
   "source": [
    "# Preparing\n",
    "import os\n",
    "#neccesary to collect the output\n",
    "pdb_code = '1AKI'\n",
    "os.chdir(\"../run\")\n",
    "new_dir = \"{0}_gromacs\".format(pdb_code)\n",
    "try:os.mkdir(new_dir)\n",
    "except:pass\n",
    "os.chdir(new_dir)\n",
    "cmd1 = \"wget https://files.rcsb.org/download/{0}.pdb\".format(pdb_code)\n",
    "cmd2 = \"grep -v HOH {0}.pdb > {0}_clean.pdb\".format(pdb_code)"
   ]
  },
  {
   "cell_type": "code",
   "execution_count": 2,
   "metadata": {},
   "outputs": [
    {
     "name": "stderr",
     "output_type": "stream",
     "text": [
      "--2021-10-31 11:21:31--  https://files.rcsb.org/download/1AKI.pdb\n",
      "Resolviendo files.rcsb.org (files.rcsb.org)... 128.6.158.70\n",
      "Conectando con files.rcsb.org (files.rcsb.org)[128.6.158.70]:443... conectado.\n",
      "Petición HTTP enviada, esperando respuesta... 200 OK\n",
      "Longitud: no especificado [application/octet-stream]\n",
      "Grabando a: «1AKI.pdb»\n",
      "\n",
      "     0K .......... .......... .......... .......... ..........  119K\n",
      "    50K .......... .......... .......... .......... ..........  234K\n",
      "   100K .......... ...                                         65.1M=0.6s\n",
      "\n",
      "2021-10-31 11:21:33 (179 KB/s) - «1AKI.pdb» guardado [116316]\n",
      "\n"
     ]
    },
    {
     "data": {
      "text/plain": [
       "0"
      ]
     },
     "execution_count": 2,
     "metadata": {},
     "output_type": "execute_result"
    }
   ],
   "source": [
    "# Running\n",
    "os.system(cmd1)\n",
    "os.system(cmd2)"
   ]
  },
  {
   "cell_type": "code",
   "execution_count": 3,
   "metadata": {},
   "outputs": [
    {
     "name": "stderr",
     "output_type": "stream",
     "text": [
      "--2021-10-31 11:21:39--  http://www.mdtutorials.com/gmx/lysozyme/Files/ions.mdp\n",
      "Resolviendo www.mdtutorials.com (www.mdtutorials.com)... 13.59.3.21\n",
      "Conectando con www.mdtutorials.com (www.mdtutorials.com)[13.59.3.21]:80... conectado.\n",
      "Petición HTTP enviada, esperando respuesta... 200 OK\n",
      "Longitud: 1045 (1.0K)\n",
      "Grabando a: «ions.mdp»\n",
      "\n",
      "     0K .                                                     100% 66.4M=0s\n",
      "\n",
      "2021-10-31 11:21:40 (66.4 MB/s) - «ions.mdp» guardado [1045/1045]\n",
      "\n",
      "--2021-10-31 11:21:40--  http://www.mdtutorials.com/gmx/lysozyme/Files/minim.mdp\n",
      "Resolviendo www.mdtutorials.com (www.mdtutorials.com)... 13.59.3.21\n",
      "Conectando con www.mdtutorials.com (www.mdtutorials.com)[13.59.3.21]:80... conectado.\n",
      "Petición HTTP enviada, esperando respuesta... 200 OK\n",
      "Longitud: 1045 (1.0K)\n",
      "Grabando a: «minim.mdp»\n",
      "\n",
      "     0K .                                                     100% 52.5M=0s\n",
      "\n",
      "2021-10-31 11:21:40 (52.5 MB/s) - «minim.mdp» guardado [1045/1045]\n",
      "\n",
      "--2021-10-31 11:21:40--  http://www.mdtutorials.com/gmx/lysozyme/Files/nvt.mdp\n",
      "Resolviendo www.mdtutorials.com (www.mdtutorials.com)... 13.59.3.21\n",
      "Conectando con www.mdtutorials.com (www.mdtutorials.com)[13.59.3.21]:80... conectado.\n",
      "Petición HTTP enviada, esperando respuesta... 200 OK\n",
      "Longitud: 2369 (2.3K)\n",
      "Grabando a: «nvt.mdp»\n",
      "\n",
      "     0K ..                                                    100%  226M=0s\n",
      "\n",
      "2021-10-31 11:21:40 (226 MB/s) - «nvt.mdp» guardado [2369/2369]\n",
      "\n",
      "--2021-10-31 11:21:40--  http://www.mdtutorials.com/gmx/lysozyme/Files/npt.mdp\n",
      "Resolviendo www.mdtutorials.com (www.mdtutorials.com)... 13.59.3.21\n",
      "Conectando con www.mdtutorials.com (www.mdtutorials.com)[13.59.3.21]:80... conectado.\n",
      "Petición HTTP enviada, esperando respuesta... 200 OK\n",
      "Longitud: 2591 (2.5K)\n",
      "Grabando a: «npt.mdp»\n",
      "\n",
      "     0K ..                                                    100%  130M=0s\n",
      "\n",
      "2021-10-31 11:21:41 (130 MB/s) - «npt.mdp» guardado [2591/2591]\n",
      "\n",
      "--2021-10-31 11:21:41--  http://www.mdtutorials.com/gmx/lysozyme/Files/md.mdp\n",
      "Resolviendo www.mdtutorials.com (www.mdtutorials.com)... 13.59.3.21\n",
      "Conectando con www.mdtutorials.com (www.mdtutorials.com)[13.59.3.21]:80... conectado.\n",
      "Petición HTTP enviada, esperando respuesta... 200 OK\n",
      "Longitud: 2741 (2.7K)\n",
      "Grabando a: «md.mdp»\n",
      "\n",
      "     0K ..                                                    100%  238M=0s\n",
      "\n",
      "2021-10-31 11:21:41 (238 MB/s) - «md.mdp» guardado [2741/2741]\n",
      "\n"
     ]
    },
    {
     "data": {
      "text/plain": [
       "0"
      ]
     },
     "execution_count": 3,
     "metadata": {},
     "output_type": "execute_result"
    }
   ],
   "source": [
    "# Get the parameters files for Gromacs\n",
    "cmd3 = \"wget http://www.mdtutorials.com/gmx/lysozyme/Files/ions.mdp\"\n",
    "cmd4 = \"wget http://www.mdtutorials.com/gmx/lysozyme/Files/minim.mdp\"\n",
    "cmd5 = \"wget http://www.mdtutorials.com/gmx/lysozyme/Files/nvt.mdp\"\n",
    "cmd6 = \"wget http://www.mdtutorials.com/gmx/lysozyme/Files/npt.mdp\"\n",
    "cmd7 = \"wget http://www.mdtutorials.com/gmx/lysozyme/Files/md.mdp\"\n",
    "import os\n",
    "os.system(cmd3);os.system(cmd4);os.system(cmd5);os.system(cmd6);os.system(cmd7)"
   ]
  },
  {
   "cell_type": "code",
   "execution_count": 4,
   "metadata": {},
   "outputs": [],
   "source": [
    "# %load nvt.mdp\n",
    "title                   = OPLS Lysozyme NVT equilibration \n",
    "define                  = -DPOSRES  ; position restrain the protein\n",
    "; Run parameters\n",
    "integrator              = md        ; leap-frog integrator\n",
    "nsteps                  = 50000     ; 2 * 50000 = 100 ps\n",
    "dt                      = 0.002     ; 2 fs\n",
    "; Output control\n",
    "nstxout                 = 500       ; save coordinates every 1.0 ps\n",
    "nstvout                 = 500       ; save velocities every 1.0 ps\n",
    "nstenergy               = 500       ; save energies every 1.0 ps\n",
    "nstlog                  = 500       ; update log file every 1.0 ps\n",
    "; Bond parameters\n",
    "continuation            = no        ; first dynamics run\n",
    "constraint_algorithm    = lincs     ; holonomic constraints \n",
    "constraints             = h-bonds   ; bonds involving H are constrained\n",
    "lincs_iter              = 1         ; accuracy of LINCS\n",
    "lincs_order             = 4         ; also related to accuracy\n",
    "; Nonbonded settings \n",
    "cutoff-scheme           = Verlet    ; Buffered neighbor searching\n",
    "ns_type                 = grid      ; search neighboring grid cells\n",
    "nstlist                 = 10        ; 20 fs, largely irrelevant with Verlet\n",
    "rcoulomb                = 1.0       ; short-range electrostatic cutoff (in nm)\n",
    "rvdw                    = 1.0       ; short-range van der Waals cutoff (in nm)\n",
    "DispCorr                = EnerPres  ; account for cut-off vdW scheme\n",
    "; Electrostatics\n",
    "coulombtype             = PME       ; Particle Mesh Ewald for long-range electrostatics\n",
    "pme_order               = 4         ; cubic interpolation\n",
    "fourierspacing          = 0.16      ; grid spacing for FFT\n",
    "; Temperature coupling is on\n",
    "tcoupl                  = V-rescale             ; modified Berendsen thermostat\n",
    "tc-grps                 = Protein Non-Protein   ; two coupling groups - more accurate\n",
    "tau_t                   = 0.1     0.1           ; time constant, in ps\n",
    "ref_t                   = 300     300           ; reference temperature, one for each group, in K\n",
    "; Pressure coupling is off\n",
    "pcoupl                  = no        ; no pressure coupling in NVT\n",
    "; Periodic boundary conditions\n",
    "pbc                     = xyz       ; 3-D PBC\n",
    "; Velocity generation\n",
    "gen_vel                 = yes       ; assign velocities from Maxwell distribution\n",
    "gen_temp                = 300       ; temperature for Maxwell distribution\n",
    "gen_seed                = -1        ; generate a random seed\n"
   ]
  },
  {
   "cell_type": "code",
   "execution_count": 5,
   "metadata": {},
   "outputs": [],
   "source": [
    "# %load npt.mdp\n",
    "title                   = OPLS Lysozyme NPT equilibration \n",
    "define                  = -DPOSRES  ; position restrain the protein\n",
    "; Run parameters\n",
    "integrator              = md        ; leap-frog integrator\n",
    "nsteps                  = 50000     ; 2 * 50000 = 100 ps\n",
    "dt                      = 0.002     ; 2 fs\n",
    "; Output control\n",
    "nstxout                 = 500       ; save coordinates every 1.0 ps\n",
    "nstvout                 = 500       ; save velocities every 1.0 ps\n",
    "nstenergy               = 500       ; save energies every 1.0 ps\n",
    "nstlog                  = 500       ; update log file every 1.0 ps\n",
    "; Bond parameters\n",
    "continuation            = yes       ; Restarting after NVT \n",
    "constraint_algorithm    = lincs     ; holonomic constraints \n",
    "constraints             = h-bonds   ; bonds involving H are constrained\n",
    "lincs_iter              = 1         ; accuracy of LINCS\n",
    "lincs_order             = 4         ; also related to accuracy\n",
    "; Nonbonded settings \n",
    "cutoff-scheme           = Verlet    ; Buffered neighbor searching\n",
    "ns_type                 = grid      ; search neighboring grid cells\n",
    "nstlist                 = 10        ; 20 fs, largely irrelevant with Verlet scheme\n",
    "rcoulomb                = 1.0       ; short-range electrostatic cutoff (in nm)\n",
    "rvdw                    = 1.0       ; short-range van der Waals cutoff (in nm)\n",
    "DispCorr                = EnerPres  ; account for cut-off vdW scheme\n",
    "; Electrostatics\n",
    "coulombtype             = PME       ; Particle Mesh Ewald for long-range electrostatics\n",
    "pme_order               = 4         ; cubic interpolation\n",
    "fourierspacing          = 0.16      ; grid spacing for FFT\n",
    "; Temperature coupling is on\n",
    "tcoupl                  = V-rescale             ; modified Berendsen thermostat\n",
    "tc-grps                 = Protein Non-Protein   ; two coupling groups - more accurate\n",
    "tau_t                   = 0.1     0.1           ; time constant, in ps\n",
    "ref_t                   = 300     300           ; reference temperature, one for each group, in K\n",
    "; Pressure coupling is on\n",
    "pcoupl                  = Parrinello-Rahman     ; Pressure coupling on in NPT\n",
    "pcoupltype              = isotropic             ; uniform scaling of box vectors\n",
    "tau_p                   = 2.0                   ; time constant, in ps\n",
    "ref_p                   = 1.0                   ; reference pressure, in bar\n",
    "compressibility         = 4.5e-5                ; isothermal compressibility of water, bar^-1\n",
    "refcoord_scaling        = com\n",
    "; Periodic boundary conditions\n",
    "pbc                     = xyz       ; 3-D PBC\n",
    "; Velocity generation\n",
    "gen_vel                 = no        ; Velocity generation is off \n"
   ]
  },
  {
   "cell_type": "markdown",
   "metadata": {},
   "source": [
    "# 2. Running local 100ps"
   ]
  },
  {
   "cell_type": "code",
   "execution_count": 11,
   "metadata": {},
   "outputs": [
    {
     "name": "stdout",
     "output_type": "stream",
     "text": [
      "Overwriting md_100ps.mdp\n"
     ]
    }
   ],
   "source": [
    "%%writefile md_100ps.mdp\n",
    "title                   = OPLS Protein NPT production 100ps\n",
    "; Run parameters\n",
    "integrator              = md        ; leap-frog integrator\n",
    "nsteps                  = 50000     ; 2 * 50000 = 100 ps (0.1 ns)\n",
    "dt                      = 0.002     ; 2 fs\n",
    "; Output control\n",
    "nstxout                 = 0         ; suppress bulky .trr file by specifying \n",
    "nstvout                 = 0         ; 0 for output frequency of nstxout,\n",
    "nstfout                 = 0         ; nstvout, and nstfout\n",
    "nstenergy               = 5000      ; save energies every 10.0 ps\n",
    "nstlog                  = 5000      ; update log file every 10.0 ps\n",
    "nstxout-compressed      = 5000      ; save compressed coordinates every 10.0 ps\n",
    "compressed-x-grps       = System    ; save the whole system\n",
    "; Bond parameters\n",
    "continuation            = yes       ; Restarting after NPT \n",
    "constraint_algorithm    = lincs     ; holonomic constraints \n",
    "constraints             = h-bonds   ; bonds involving H are constrained\n",
    "lincs_iter              = 1         ; accuracy of LINCS\n",
    "lincs_order             = 4         ; also related to accuracy\n",
    "; Neighborsearching\n",
    "cutoff-scheme           = Verlet    ; Buffered neighbor searching\n",
    "ns_type                 = grid      ; search neighboring grid cells\n",
    "nstlist                 = 10        ; 20 fs, largely irrelevant with Verlet scheme\n",
    "rcoulomb                = 1.0       ; short-range electrostatic cutoff (in nm)\n",
    "rvdw                    = 1.0       ; short-range van der Waals cutoff (in nm)\n",
    "; Electrostatics\n",
    "coulombtype             = PME       ; Particle Mesh Ewald for long-range electrostatics\n",
    "pme_order               = 4         ; cubic interpolation\n",
    "fourierspacing          = 0.16      ; grid spacing for FFT\n",
    "; Temperature coupling is on\n",
    "tcoupl                  = V-rescale             ; modified Berendsen thermostat\n",
    "tc-grps                 = Protein Non-Protein   ; two coupling groups - more accurate\n",
    "tau_t                   = 0.1     0.1           ; time constant, in ps\n",
    "ref_t                   = 300     300           ; reference temperature, one for each group, in K\n",
    "; Pressure coupling is on\n",
    "pcoupl                  = Parrinello-Rahman     ; Pressure coupling on in NPT\n",
    "pcoupltype              = isotropic             ; uniform scaling of box vectors\n",
    "tau_p                   = 2.0                   ; time constant, in ps\n",
    "ref_p                   = 1.0                   ; reference pressure, in bar\n",
    "compressibility         = 4.5e-5                ; isothermal compressibility of water, bar^-1\n",
    "; Periodic boundary conditions\n",
    "pbc                     = xyz       ; 3-D PBC\n",
    "; Dispersion correction\n",
    "DispCorr                = EnerPres  ; account for cut-off vdW scheme\n",
    "; Velocity generation\n",
    "gen_vel                 = no        ; Velocity generation is off \n"
   ]
  },
  {
   "cell_type": "code",
   "execution_count": 8,
   "metadata": {},
   "outputs": [
    {
     "name": "stdout",
     "output_type": "stream",
     "text": [
      "cd /Users/alsalas/GDrive/Github/Labcodes/Dynamics/Molecular_Dynamics_Simulation/run/1AKI_gromacs\n",
      "conda activate Gromacs21\n"
     ]
    }
   ],
   "source": [
    "# Run in a terminal the following commands\n",
    "import os\n",
    "print(\"cd\", os.getcwd())\n",
    "print(\"conda activate Gromacs21\")"
   ]
  },
  {
   "cell_type": "code",
   "execution_count": null,
   "metadata": {},
   "outputs": [],
   "source": [
    "gmx pdb2gmx -f 1AKI_clean.pdb -o 1AKI_processed.gro -water spce\n",
    "#OPLS\n",
    ">15\n",
    "gmx editconf -f 1AKI_processed.gro -o 1AKI_newbox.gro -c -d 1.0 -bt cubic\n",
    "gmx solvate -cp 1AKI_newbox.gro -cs spc216.gro -o 1AKI_solv.gro -p topol.top\n",
    "gmx grompp -f ions.mdp -c 1AKI_solv.gro -p topol.top -o ions.tpr\n",
    "gmx genion -s ions.tpr -o 1AKI_solv_ions.gro -p topol.top -pname NA -nname CL -neutral\n",
    "#Solvent\n",
    ">13"
   ]
  },
  {
   "cell_type": "code",
   "execution_count": null,
   "metadata": {},
   "outputs": [],
   "source": [
    "# Minimization\n",
    "gmx grompp -f minim.mdp -c 1AKI_solv_ions.gro -p topol.top -o em.tpr\n",
    "gmx mdrun -v -deffnm em\n",
    "\n",
    "# Equi NVT\n",
    "gmx grompp -f nvt.mdp -c em.gro -r em.gro -p topol.top -o nvt.tpr\n",
    "gmx mdrun -deffnm nvt\n",
    "\n",
    "# Equi NPT\n",
    "gmx grompp -f npt.mdp -c nvt.gro -r nvt.gro -t nvt.cpt -p topol.top -o npt.tpr\n",
    "gmx mdrun -deffnm npt\n",
    "\n",
    "# Production\n",
    "gmx grompp -f md_100ps.mdp -c npt.gro -t npt.cpt -p topol.top -o md_0_100ps.tpr\n",
    "gmx mdrun -deffnm md_0_100ps"
   ]
  },
  {
   "cell_type": "markdown",
   "metadata": {},
   "source": [
    "# 3. Running in a GPU Cluster"
   ]
  },
  {
   "cell_type": "code",
   "execution_count": 12,
   "metadata": {},
   "outputs": [
    {
     "name": "stdout",
     "output_type": "stream",
     "text": [
      "Writing md_10ns.mdp\n"
     ]
    }
   ],
   "source": [
    "%%writefile md_10ns.mdp\n",
    "title                   = OPLS Protein NPT Production 10ns \n",
    "; Run parameters\n",
    "integrator              = md        ; leap-frog integrator\n",
    "nsteps                  = 5000000   ; 2 * 5000000 = 10000 ps (10 ns)\n",
    "dt                      = 0.002     ; 2 fs\n",
    "; Output control\n",
    "nstxout                 = 0         ; suppress bulky .trr file by specifying \n",
    "nstvout                 = 0         ; 0 for output frequency of nstxout,\n",
    "nstfout                 = 0         ; nstvout, and nstfout\n",
    "nstenergy               = 5000      ; save energies every 10.0 ps\n",
    "nstlog                  = 5000      ; update log file every 10.0 ps\n",
    "nstxout-compressed      = 5000      ; save compressed coordinates every 10.0 ps\n",
    "compressed-x-grps       = System    ; save the whole system\n",
    "; Bond parameters\n",
    "continuation            = yes       ; Restarting after NPT \n",
    "constraint_algorithm    = lincs     ; holonomic constraints \n",
    "constraints             = h-bonds   ; bonds involving H are constrained\n",
    "lincs_iter              = 1         ; accuracy of LINCS\n",
    "lincs_order             = 4         ; also related to accuracy\n",
    "; Neighborsearching\n",
    "cutoff-scheme           = Verlet    ; Buffered neighbor searching\n",
    "ns_type                 = grid      ; search neighboring grid cells\n",
    "nstlist                 = 10        ; 20 fs, largely irrelevant with Verlet scheme\n",
    "rcoulomb                = 1.0       ; short-range electrostatic cutoff (in nm)\n",
    "rvdw                    = 1.0       ; short-range van der Waals cutoff (in nm)\n",
    "; Electrostatics\n",
    "coulombtype             = PME       ; Particle Mesh Ewald for long-range electrostatics\n",
    "pme_order               = 4         ; cubic interpolation\n",
    "fourierspacing          = 0.16      ; grid spacing for FFT\n",
    "; Temperature coupling is on\n",
    "tcoupl                  = V-rescale             ; modified Berendsen thermostat\n",
    "tc-grps                 = Protein Non-Protein   ; two coupling groups - more accurate\n",
    "tau_t                   = 0.1     0.1           ; time constant, in ps\n",
    "ref_t                   = 300     300           ; reference temperature, one for each group, in K\n",
    "; Pressure coupling is on\n",
    "pcoupl                  = Parrinello-Rahman     ; Pressure coupling on in NPT\n",
    "pcoupltype              = isotropic             ; uniform scaling of box vectors\n",
    "tau_p                   = 2.0                   ; time constant, in ps\n",
    "ref_p                   = 1.0                   ; reference pressure, in bar\n",
    "compressibility         = 4.5e-5                ; isothermal compressibility of water, bar^-1\n",
    "; Periodic boundary conditions\n",
    "pbc                     = xyz       ; 3-D PBC\n",
    "; Dispersion correction\n",
    "DispCorr                = EnerPres  ; account for cut-off vdW scheme\n",
    "; Velocity generation\n",
    "gen_vel                 = no        ; Velocity generation is off \n"
   ]
  },
  {
   "cell_type": "code",
   "execution_count": 17,
   "metadata": {},
   "outputs": [
    {
     "name": "stdout",
     "output_type": "stream",
     "text": [
      "Overwriting md_10ns.sch\n"
     ]
    }
   ],
   "source": [
    "%%writefile md_10ns.sch\n",
    "#!/bin/bash\n",
    "#SBATCH -J Gro21\n",
    "#SBATCH --partition=defq\n",
    "#SBATCH --nodes=1\n",
    "#SBATCH --tasks-per-node=20\n",
    "#SBATCH --gres=gpu:4\n",
    "\n",
    "module load mdynamics/gromacs/2021.2\n",
    "\n",
    "# Minimization \n",
    "gmx_mpi grompp -f minim.mdp -c 1AKI_solv_ions.gro -p topol.top -o em.tpr\n",
    "gmx_mpi mdrun -v -deffnm em\n",
    "\n",
    "#Equilibration NVT\n",
    "gmx_mpi grompp -f nvt.mdp -c em.gro -r em.gro -p topol.top -o nvt.tpr\n",
    "gmx_mpi mdrun -deffnm nvt -nb gpu\n",
    "\n",
    "# Equi NPT\n",
    "gmx_mpi grompp -f npt.mdp -c nvt.gro -r nvt.gro -t nvt.cpt -p topol.top -o npt.tpr\n",
    "gmx_mpi mdrun -deffnm npt -nb gpu\n",
    "\n",
    "# Production\n",
    "gmx_mpi grompp -f md_10ns.mdp -c npt.gro -t npt.cpt -p topol.top -o md_0_10ns.tpr\n",
    "gmx_mpi mdrun -deffnm md_0_10ns -nb gpu"
   ]
  },
  {
   "cell_type": "code",
   "execution_count": 2,
   "metadata": {},
   "outputs": [],
   "source": [
    "def create_dir(nombre=\"Gromacs\"):\n",
    "    from time import strftime\n",
    "    import os\n",
    "    fecha = strftime(\"%Y%j_%H%M%S\")\n",
    "    directorio_pdbs = fecha + \"_\" + nombre\n",
    "    os.mkdir(directorio_pdbs)\n",
    "    return directorio_pdbs\n",
    "\n",
    "def compress(directorio):\n",
    "    import tarfile\n",
    "    outfile = \"%s.tar.gz\" % directorio\n",
    "    tar = tarfile.open(outfile, \"w:gz\")\n",
    "    tar.add(directorio, arcname=directorio)\n",
    "    tar.close()\n",
    "    return outfile"
   ]
  },
  {
   "cell_type": "code",
   "execution_count": 5,
   "metadata": {},
   "outputs": [
    {
     "name": "stdout",
     "output_type": "stream",
     "text": [
      "/Users/alsalas/GDrive/Github/Labcodes/Dynamics/Molecular_Dynamics_Simulation/run/1AKI_gromacs\n",
      "scp -rC 2021304_124035_Gromacs.tar.gz 152.00.00.00:\n",
      "gobender\n",
      "scp -rC 2021304_124035_Gromacs.tar.gz 152.00.00.00:\n",
      "gocluster\n",
      "tar -xzvf 2021304_124035_Gromacs.tar.gz\n",
      "cd 2021304_124035_Gromacs\n",
      "sbatch md_10ns.sch\n"
     ]
    }
   ],
   "source": [
    "import shutil\n",
    "import os\n",
    "#recuerda que debes crear este archivo python con el cuaderno 00\n",
    "import conection\n",
    "user = conection.user\n",
    "ipbender  = conection.ipbender\n",
    "ipcluster = conection.ipcluster\n",
    "\n",
    "directorio = create_dir()\n",
    "files = ['minim.mdp','nvt.mdp','npt.mdp','md_10ns.mdp','1AKI_solv_ions.gro','topol.top','posre.itp','md_10ns.sch']\n",
    "for f in files:\n",
    "    shutil.copy(f, directorio)\n",
    "out_compress_folder = compress(directorio)\n",
    "print(os.getcwd())\n",
    "print(\"scp -rC {0} {1}:\".format(out_compress_folder, ipbender))\n",
    "print(\"ssh {0}@{1}\".format(user, ipbender))\n",
    "print(\"scp -rC {0} {1}:\".format(out_compress_folder, ipcluster))\n",
    "print(\"ssh {0}@{1}\".format(user, ipcluster))\n",
    "print(\"tar -xzvf {0}\".format(out_compress_folder))\n",
    "print(\"cd {0}\".format(out_compress_folder[:-7]))\n",
    "print(\"sbatch md_10ns.sch\")"
   ]
  }
 ],
 "metadata": {
  "kernelspec": {
   "display_name": "Python 3",
   "language": "python",
   "name": "python3"
  },
  "language_info": {
   "codemirror_mode": {
    "name": "ipython",
    "version": 3
   },
   "file_extension": ".py",
   "mimetype": "text/x-python",
   "name": "python",
   "nbconvert_exporter": "python",
   "pygments_lexer": "ipython3",
   "version": "3.8.3"
  }
 },
 "nbformat": 4,
 "nbformat_minor": 4
}
