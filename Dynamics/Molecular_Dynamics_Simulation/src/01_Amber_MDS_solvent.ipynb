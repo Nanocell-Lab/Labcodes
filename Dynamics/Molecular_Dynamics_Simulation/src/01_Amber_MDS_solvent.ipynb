{
 "cells": [
  {
   "cell_type": "markdown",
   "metadata": {},
   "source": [
    "# Amber Molecular Dynamics Simulation\n",
    "Amber Molecular Dynamics Simulation of PDB protein and solvent OPC\n",
    "* Laboratorio de diseño de fármacos Nanocell\n",
    "* https://www.nanocell.cl\n",
    "* Dr. Alexis Salas Burgos\n",
    "* v.1\n",
    "* October 2021"
   ]
  },
  {
   "cell_type": "markdown",
   "metadata": {},
   "source": [
    "Adapted from http://ambermd.org/tutorials/basic/tutorial0\n",
    "\n",
    "* AMBER stands for Assisted Model Building and Energy Refinement. It refers not only to the molecular dynamics programs, but also a set of force fields that describe the potential energy function and parameters of the interactions of biomolecules.\n",
    "\n",
    "In order to run a Molecular Dynamics simulation in Amber, each molecule's interactions are described by a molecular force field. The force field has specific parameters defined for each molecule.\n",
    "\n",
    "*sander* is the basic MD engine of Amber. *pmemd* is the high performance implementation of the MD engine that contains a subset of features of sander. pmemd can also be run with acceleration from graphics processing units (GPU).\n",
    "\n",
    "In order to run an MD simulation with sander or pmemd, three key files are needed:\n",
    "* prmtop - The file that describes the parameter and topology of the molecules in the system\n",
    "* inpcrd - The file that describes the initial molecular coordinates of the system\n",
    "* mdin - The file that describes the settings for the Amber MD engine"
   ]
  },
  {
   "cell_type": "markdown",
   "metadata": {},
   "source": [
    "# Amber\n",
    "https://ambermd.org\n",
    "## Requirements\n",
    "* test_version = 2021\n",
    "* conda create AmberTools21 -c conda-forge ambertools=21 compilers\n",
    "* conda activate AmberTools21"
   ]
  },
  {
   "cell_type": "markdown",
   "metadata": {},
   "source": [
    "# 1. Prepare the Ensembl"
   ]
  },
  {
   "cell_type": "code",
   "execution_count": 2,
   "metadata": {},
   "outputs": [],
   "source": [
    "# Preparing\n",
    "import os\n",
    "#neccesary to collect the output\n",
    "pdb_code = '1AKI'\n",
    "os.chdir(\"../run\")\n",
    "new_dir = \"{0}_amber\".format(pdb_code)\n",
    "try:os.mkdir(new_dir)\n",
    "except:pass\n",
    "os.chdir(new_dir)\n",
    "cmd1 = \"wget https://files.rcsb.org/download/{0}.pdb\".format(pdb_code)\n",
    "cmd2 = \"grep -v HOH {0}.pdb > {0}_clean.pdb\".format(pdb_code)\n",
    "cmd3 = \"conda activate AmberTools21 && packmol-memgen --pdb {0}_clean.pdb --solvate --cubic --dist 15 --salt \\\n",
    "--saltcon 0.15 --minimize  --ffwat opc --ffprot ff19SB --overwrite && conda deactivate\".format(pdb_code)"
   ]
  },
  {
   "cell_type": "code",
   "execution_count": 24,
   "metadata": {},
   "outputs": [
    {
     "name": "stdout",
     "output_type": "stream",
     "text": [
      "conda activate AmberTools21 && packmol-memgen --pdb 1AKI_clean.pdb --solvate --cubic --dist 15 --salt --saltcon 0.15 --minimize  --ffwat opc --ffprot ff19SB --overwrite && conda deactivate\n"
     ]
    }
   ],
   "source": [
    "# Running\n",
    "os.system(cmd1)\n",
    "os.system(cmd2)\n",
    "#To running in the run folder from the terminal\n",
    "print(cmd3)"
   ]
  },
  {
   "cell_type": "code",
   "execution_count": 47,
   "metadata": {},
   "outputs": [],
   "source": [
    "with open(\"min.in\", 'r') as f:\n",
    "    import re\n",
    "    texto = f.read()\n",
    "    pattern = \"restraintmask.+:((\\d+)-(\\d+))\"\n",
    "    m = re.findall(pattern, texto)\n",
    "start = m[0][1]\n",
    "end   = m[0][2]"
   ]
  },
  {
   "cell_type": "code",
   "execution_count": 48,
   "metadata": {},
   "outputs": [],
   "source": [
    "min1 = \"01min_wat.in\"\n",
    "\n",
    "texto = \"\"\"Stage 1 - minimisation of ubiquitin:\n",
    "initial minimisation solvent + ions\n",
    "&cntrl\n",
    " imin = 1,\n",
    " maxcyc = 1000,\n",
    " ncyc = 500,\n",
    " ntpr=100,\n",
    " ntb = 1,\n",
    " ntr = 1,\n",
    " cut = 10\n",
    "/\n",
    "Hold the protein fixed\n",
    "500.0\n",
    "RES {0} {1}\n",
    "END\n",
    "END\n",
    "\"\"\".format(start,end)\n",
    "\n",
    "with open(min1, \"w\") as f:\n",
    "    f.write(texto)"
   ]
  },
  {
   "cell_type": "code",
   "execution_count": 49,
   "metadata": {},
   "outputs": [],
   "source": [
    "min2 = \"02min_wat.in\"\n",
    "\n",
    "texto = \"\"\"Stage 2 - minimisation of ubiquitin unrestricted:\n",
    "initial minimisation whole system\n",
    "&cntrl\n",
    "imin = 1,\n",
    "maxcyc = 2500,\n",
    "ncyc = 1000,\n",
    "ntb = 1,\n",
    "ntr = 0,\n",
    "cut = 10\n",
    "/\n",
    "\"\"\"\n",
    "\n",
    "with open(min2, \"w\") as f:\n",
    "    f.write(texto)"
   ]
  },
  {
   "cell_type": "code",
   "execution_count": 50,
   "metadata": {},
   "outputs": [],
   "source": [
    "md1 = \"03md_wat.in\"\n",
    "\n",
    "texto = \"\"\"Stage 3 - Molecular Dynamics Simulation restricted:\n",
    "20ps MD with res on protein\n",
    "&cntrl\n",
    " imin = 0,\n",
    " irest = 0,\n",
    " ntx = 1,\n",
    " ntb = 1,\n",
    " cut = 10,\n",
    " ntr = 1,\n",
    " ntc = 2,\n",
    " ntf = 2,\n",
    " tempi = 0.0,\n",
    " temp0 = 300.0,\n",
    " ntt = 3,\n",
    " gamma_ln = 1.0,\n",
    " nstlim = 10000, dt = 0.002,\n",
    " ntpr = 100, ntwx = 500, ntwr = 1000\n",
    "/\n",
    "Keep protein fixed with weak restraints\n",
    "10.0\n",
    "RES {0} {1}\n",
    "END\n",
    "END\n",
    "\"\"\".format(start,end)\n",
    "\n",
    "with open(md1, \"w\") as f:\n",
    "    f.write(texto)"
   ]
  },
  {
   "cell_type": "code",
   "execution_count": 4,
   "metadata": {},
   "outputs": [
    {
     "name": "stdout",
     "output_type": "stream",
     "text": [
      "Overwriting 04md_wat_100ps.in\n"
     ]
    }
   ],
   "source": [
    "%%writefile 04md_wat_100ps.in\n",
    "\n",
    "Stage 4 - Molecular Dynamics Simulation of ubiquitin:\n",
    "100ps MD\n",
    "&cntrl\n",
    " imin = 0, irest = 1, ntx = 7,\n",
    " ntxo = 2    ! formato de restart rst 1:rst, 2: netcdf\n",
    " ioutfm = 1  ! set mdcr trj to nc (netcdf)\n",
    " ntb = 2, pres0 = 1.0, ntp = 1,\n",
    " taup = 2.0,\n",
    " cut = 10, ntr = 0,\n",
    " ntc = 2, ntf = 2,\n",
    " tempi = 300.0, temp0 = 300.0,\n",
    " ntt = 3, gamma_ln = 1.0,\n",
    " nstlim = 50000, dt = 0.002,\n",
    " ntpr = 100, ntwx = 500, ntwr = 1000\n",
    "/"
   ]
  },
  {
   "cell_type": "markdown",
   "metadata": {},
   "source": [
    "# 2. Running local PC"
   ]
  },
  {
   "cell_type": "code",
   "execution_count": 5,
   "metadata": {},
   "outputs": [],
   "source": [
    "def run_command(pdb_code, time='100ps', cluster=False):\n",
    "    \"\"\"create a script to running amber\"\"\"\n",
    "    \n",
    "    if cluster == True:\n",
    "        integrator = \"pmemd.cuda\"\n",
    "        bash_file = \"\"\"#!/bin/bash\n",
    "#SBATCH -J MDS{0}\n",
    "#SBATCH --partition=defq\n",
    "#SBATCH --nodes=1\n",
    "#SBATCH --tasks-per-node=20\n",
    "#SBATCH --gres=gpu:4\n",
    "\n",
    "#Note: in one node pmemd with mpi and cuda is more slow that only cuda\n",
    "#Use only pmemd.cuda\n",
    "module load mdynamics/amber/20.20\\n\\n\n",
    "\"\"\".format(pdb_code)\n",
    "\n",
    "    else:\n",
    "        integrator = \"sander\"\n",
    "        bash_file = \"#!/bin/bash\"\n",
    "\n",
    "    cmd1 = \"{0} -O -i 01min_wat.in -o 01min_wat.out -p solvated_{1}_clean_wat.top -c solvated_{1}_clean_wat.crd -r 01min_wat.rst -ref solvated_{1}_clean_wat.crd -inf 01min_wat.info\\n\".format(integrator, pdb_code)\n",
    "    cmd2 = \"{0} -O -i 02min_wat.in -o 02min_wat.out -p solvated_{1}_clean_wat.top -c 01min_wat.rst -r 02min_wat.rst -inf 02min_wat.info\\n\".format(integrator, pdb_code)\n",
    "    cmd3 = \"{0} -O -i 03md_wat.in -o 03md_wat.out -p solvated_{1}_clean_wat.top -c 02min_wat.rst -r 03md_wat.rst -x 03md_wat.mdcrd -ref 02min_wat.rst -inf 03md_wat.info\\n\".format(integrator, pdb_code)\n",
    "    cmd4 = \"{0} -O -i 04md_wat_{2}.in -o 04md_wat_{2}.out -p solvated_{1}_clean_wat.top -c 03md_wat.rst -r 04md_wat_{2}.rst -x 04md_wat_{2}.mdcrd -ref 03md_wat.rst -inf 04md_wat_{2}.info\\n\".format(integrator, pdb_code, time)\n",
    "    \n",
    "    bash_file=bash_file+cmd1+cmd2+cmd3+cmd4\n",
    "    with open(\"amber_{0}_{1}.sch\".format(pdb_code, time),\"w\") as f:\n",
    "        f.write(bash_file)\n",
    "        print(\"amber_{0}_{1}.sch wrote!!\".format(pdb_code, time))\n",
    "    return \"amber_{0}_{1}.sch\".format(pdb_code, time)"
   ]
  },
  {
   "cell_type": "code",
   "execution_count": 9,
   "metadata": {},
   "outputs": [
    {
     "name": "stdout",
     "output_type": "stream",
     "text": [
      "cd /Users/alsalas/GDrive/Github/Labcodes/Dynamics/Molecular_Dynamics_Simulation/run/1AKI_amber\n",
      "conda activate AmberTools21\n",
      "amber_1AKI_100ps.sch wrote!!\n"
     ]
    }
   ],
   "source": [
    "import os\n",
    "print (\"cd\", os.getcwd())\n",
    "print (\"conda activate AmberTools21\")\n",
    "run_command(pdb_code, time='100ps', cluster=False)"
   ]
  },
  {
   "cell_type": "markdown",
   "metadata": {},
   "source": [
    "# 3. Running in GPU Cluster"
   ]
  },
  {
   "cell_type": "code",
   "execution_count": 6,
   "metadata": {},
   "outputs": [
    {
     "name": "stdout",
     "output_type": "stream",
     "text": [
      "Overwriting 04md_wat_10ns.in\n"
     ]
    }
   ],
   "source": [
    "%%writefile 04md_wat_10ns.in\n",
    "\n",
    "Stage 4 - Molecular Dynamics Simulation of ubiquitin:\n",
    "100ps MD\n",
    "&cntrl\n",
    " imin = 0, irest = 1, ntx = 7,\n",
    " ntxo = 2    ! formato de restart rst 1:rst, 2: netcdf\n",
    " ioutfm = 1  ! set mdcr trj to nc (netcdf)\n",
    " ntb = 2, pres0 = 1.0, ntp = 1,\n",
    " taup = 2.0,\n",
    " cut = 10, ntr = 0,\n",
    " ntc = 2, ntf = 2,\n",
    " tempi = 300.0, temp0 = 300.0,\n",
    " ntt = 3, gamma_ln = 1.0,\n",
    " nstlim = 5000000, dt = 0.002,\n",
    " ntpr = 100, ntwx = 500, ntwr = 1000\n",
    "/"
   ]
  },
  {
   "cell_type": "code",
   "execution_count": 7,
   "metadata": {},
   "outputs": [
    {
     "name": "stdout",
     "output_type": "stream",
     "text": [
      "amber_1AKI_10ns.sch wrote!!\n"
     ]
    }
   ],
   "source": [
    "slurm_file = run_command(pdb_code, time='10ns', cluster=True)"
   ]
  },
  {
   "cell_type": "code",
   "execution_count": 1,
   "metadata": {},
   "outputs": [],
   "source": [
    "def create_dir(nombre=\"Amber\"):\n",
    "    from time import strftime\n",
    "    import os\n",
    "    fecha = strftime(\"%Y%j_%H%M%S\")\n",
    "    directorio_pdbs = fecha + \"_\" + nombre\n",
    "    os.mkdir(directorio_pdbs)\n",
    "    return directorio_pdbs\n",
    "\n",
    "def compress(directorio):\n",
    "    import tarfile\n",
    "    outfile = \"%s.tar.gz\" % directorio\n",
    "    tar = tarfile.open(outfile, \"w:gz\")\n",
    "    tar.add(directorio, arcname=directorio)\n",
    "    tar.close()\n",
    "    return outfile"
   ]
  },
  {
   "cell_type": "code",
   "execution_count": 8,
   "metadata": {},
   "outputs": [
    {
     "name": "stdout",
     "output_type": "stream",
     "text": [
      "cd /Users/alsalas/GDrive/Github/Labcodes/Dynamics/Molecular_Dynamics_Simulation/run/1AKI_amber\n",
      "scp -rC 2021304_132456_Amber.tar.gz 152.00.00.00:\n",
      "ssh alsalas@152.00.00.00\n",
      "scp -rC 2021304_132456_Amber.tar.gz 152.00.00.00:\n",
      "ssh alsalas@152.00.00.00\n",
      "tar -xzvf 2021304_132456_Amber.tar.gz\n",
      "cd 2021304_132456_Amber\n",
      "sbatch amber_1AKI_10ns.sch\n"
     ]
    }
   ],
   "source": [
    "import shutil\n",
    "import os\n",
    "#recuerda que debes crear este archivo python con el cuaderno 00\n",
    "import conection\n",
    "user = conection.user\n",
    "ipbender  = conection.ipbender\n",
    "ipcluster = conection.ipcluster\n",
    "\n",
    "directorio = create_dir()\n",
    "files = ['01min_wat.in','02min_wat.in','03md_wat.in','04md_wat_10ns.in','solvated_{0}_clean_wat.top'.format(pdb_code),\n",
    "         'solvated_{0}_clean_wat.crd'.format(pdb_code), slurm_file]\n",
    "for f in files:\n",
    "    shutil.copy(f, directorio)\n",
    "out_compress_folder = compress(directorio)\n",
    "print(\"cd\", os.getcwd())\n",
    "print(\"scp -rC {0} {1}:\".format(out_compress_folder, ipbender))\n",
    "print(\"ssh {0}@{1}\".format(user, ipbender))\n",
    "print(\"scp -rC {0} {1}:\".format(out_compress_folder, ipcluster))\n",
    "print(\"ssh {0}@{1}\".format(user, ipcluster))\n",
    "print(\"tar -xzvf {0}\".format(out_compress_folder))\n",
    "print(\"cd {0}\".format(out_compress_folder[:-7]))\n",
    "print(\"sbatch\", slurm_file)"
   ]
  }
 ],
 "metadata": {
  "kernelspec": {
   "display_name": "Python 3",
   "language": "python",
   "name": "python3"
  },
  "language_info": {
   "codemirror_mode": {
    "name": "ipython",
    "version": 3
   },
   "file_extension": ".py",
   "mimetype": "text/x-python",
   "name": "python",
   "nbconvert_exporter": "python",
   "pygments_lexer": "ipython3",
   "version": "3.8.3"
  }
 },
 "nbformat": 4,
 "nbformat_minor": 4
}
