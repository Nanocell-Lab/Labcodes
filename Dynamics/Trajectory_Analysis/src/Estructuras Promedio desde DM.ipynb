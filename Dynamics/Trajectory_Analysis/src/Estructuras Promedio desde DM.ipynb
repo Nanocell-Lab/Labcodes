{
 "cells": [
  {
   "cell_type": "markdown",
   "metadata": {},
   "source": [
    "Este cuaderno de ipython es propiedad de:\n",
    "El laboratorio de Diseño de Fármacos de Concepción. En convenio con:\n",
    "Datagen Limitada, Chile.\n",
    "* Autor : Dr. Alexis Salas Burgos\n",
    "* Fecha : Noviembre 2015\n",
    "* Versión: 1.0\n",
    "\n",
    "Requerimientos Enviromental bio (pip install):\n",
    "* mdtraj\n",
    "* tables\n",
    "* prody\n",
    "* scipy"
   ]
  },
  {
   "cell_type": "code",
   "execution_count": 15,
   "metadata": {},
   "outputs": [
    {
     "name": "stdout",
     "output_type": "stream",
     "text": [
      "Populating the interactive namespace from numpy and matplotlib\n"
     ]
    }
   ],
   "source": [
    "%pylab inline \n",
    "import mdtraj as md\n",
    "import numpy as np\n",
    "import matplotlib.pyplot as plt\n",
    "from prody import parsePDB, parseDCD\n",
    "import scipy.cluster.hierarchy\n",
    "import os"
   ]
  },
  {
   "cell_type": "code",
   "execution_count": 216,
   "metadata": {
    "collapsed": true,
    "jupyter": {
     "outputs_hidden": true
    }
   },
   "outputs": [],
   "source": [
    "directorio_work = \"/Users/alsalas/Desktop/UreI_pH6/\"\n",
    "os.chdir(directorio_work)"
   ]
  },
  {
   "cell_type": "code",
   "execution_count": 217,
   "metadata": {},
   "outputs": [],
   "source": [
    "def get_linkage(dcd, pdb):\n",
    "    traj = md.load(dcd, top=pdb)\n",
    "    traj = traj[500::10]\n",
    "    distances = np.empty((traj.n_frames, traj.n_frames))\n",
    "    for i in range(traj.n_frames):\n",
    "        distances[i] = md.rmsd(traj, traj, i)\n",
    "    print('Max pairwise rmsd: %f nm' % np.max(distances))\n",
    "    linkage = scipy.cluster.hierarchy.ward(distances)\n",
    "    return linkage"
   ]
  },
  {
   "cell_type": "code",
   "execution_count": 225,
   "metadata": {},
   "outputs": [
    {
     "name": "stdout",
     "output_type": "stream",
     "text": [
      "Max pairwise rmsd: 0.316742 nm\n"
     ]
    }
   ],
   "source": [
    "dcd ='UreI_pH6_cadF.dcd'\n",
    "pdb ='UreI_pH6_cadF.pdb'\n",
    "linkage = get_linkage(dcd, pdb)"
   ]
  },
  {
   "cell_type": "code",
   "execution_count": 226,
   "metadata": {},
   "outputs": [
    {
     "data": {
      "image/png": "[encoded data removed]",
      "text/plain": [
       "<matplotlib.figure.Figure at 0x11db3b1d0>"
      ]
     },
     "metadata": {},
     "output_type": "display_data"
    }
   ],
   "source": [
    "from scipy.cluster.hierarchy import dendrogram\n",
    "plt.figure(figsize=(30, 5))\n",
    "plt.title('Hierarchical Clustering Dendrogram')\n",
    "plt.xlabel('sample index')\n",
    "plt.ylabel('distance')\n",
    "ddata = dendrogram(\n",
    "    linkage,\n",
    "     no_labels=False,\n",
    "    count_sort='descendent',\n",
    "    leaf_rotation=90.,  # rotates the x axis labels\n",
    "    leaf_font_size=8.,  # font size for the x axis labels\n",
    ")\n",
    "\n",
    "pylab.savefig(\"Hcluster_RMSD_F.svg\", dpi=200)\n",
    "pylab.savefig(\"Hcluster_RMSD_F.png\", dpi=200)\n",
    "None"
   ]
  },
  {
   "cell_type": "code",
   "execution_count": 227,
   "metadata": {},
   "outputs": [
    {
     "name": "stdout",
     "output_type": "stream",
     "text": [
      "['ivl', 'dcoord', 'leaves', 'color_list', 'icoord']\n",
      "[6, 9, 10, 14, 13, 11, 12, 7, 8, 4, 5, 0, 2, 1, 3, 24, 27, 25, 26, 34, 35, 28, 29, 32, 33, 30, 31, 22, 23, 20, 21, 17, 18, 19, 15, 16, 52, 53, 54, 36, 37, 40, 38, 39, 49, 50, 51, 41, 42, 43, 46, 44, 45, 47, 48]\n",
      "[57, 58, 59, 60, 55, 56, 63, 61, 62, 64, 65, 66, 67, 68, 69, 78, 76, 77, 73, 74, 75, 72, 70, 71, 87, 88, 84, 85, 86, 79, 80, 81, 82, 83, 92, 93, 89, 90, 91, 99, 100, 98, 102, 94, 95, 101, 96, 97, 136, 137, 138, 129, 130, 133, 134, 132, 135, 128, 131, 103, 104, 107, 108, 105, 106, 125, 126, 127, 114, 118, 113, 112, 110, 111, 116, 117, 109, 115, 119, 120, 122, 124, 121, 123, 152, 143, 147, 151, 139, 140, 141, 142, 150, 148, 149, 146, 144, 145, 168, 169, 165, 166, 167, 161, 162, 163, 164, 153, 154, 155, 157, 158, 159, 156, 160, 192, 194, 191, 193, 195, 198, 199, 196, 197, 189, 190, 187, 185, 188, 184, 182, 183, 180, 181, 178, 179, 176, 173, 174, 177, 172, 170, 171, 175, 186]\n",
      "[]\n"
     ]
    }
   ],
   "source": [
    "print ddata.keys()\n",
    "cluster1 = [ddata[\"leaves\"][0]]\n",
    "cluster2 = []\n",
    "cluster3 = []\n",
    "for i,color in enumerate(ddata[\"color_list\"]):\n",
    "    if color == 'g':\n",
    "        cluster1.append(ddata[\"leaves\"][i+1])\n",
    "    if color == 'r':\n",
    "        cluster2.append(ddata[\"leaves\"][i+1])\n",
    "    if color == 'c':\n",
    "        cluster3.append(ddata[\"leaves\"][i+1])\n",
    "cluster2.append(ddata[\"leaves\"][-1])\n",
    "\n",
    "print cluster1\n",
    "print cluster2\n",
    "print cluster3"
   ]
  },
  {
   "cell_type": "markdown",
   "metadata": {},
   "source": [
    "# Calculo de centroide / Average"
   ]
  },
  {
   "cell_type": "code",
   "execution_count": 221,
   "metadata": {},
   "outputs": [],
   "source": [
    "def get_centroide(traj):\n",
    "    atom_indices = [a.index for a in traj.topology.atoms if a.element.symbol != 'H']\n",
    "    distances = np.empty((traj.n_frames, traj.n_frames))\n",
    "    for i in range(traj.n_frames):\n",
    "        distances[i] = md.rmsd(traj, traj, i, atom_indices=atom_indices)\n",
    "    \n",
    "    beta = 1\n",
    "    index = np.exp(-beta*distances / distances.std()).sum(axis=1).argmax()\n",
    "    print(index)\n",
    "    \n",
    "    centroid = traj[index]\n",
    "    return centroid"
   ]
  },
  {
   "cell_type": "code",
   "execution_count": 228,
   "metadata": {},
   "outputs": [],
   "source": [
    "traj_cluster1 = traj[cluster1]\n",
    "traj_cluster2 = traj[cluster2]\n",
    "traj_cluster3 = traj[cluster3]"
   ]
  },
  {
   "cell_type": "code",
   "execution_count": 229,
   "metadata": {},
   "outputs": [
    {
     "name": "stdout",
     "output_type": "stream",
     "text": [
      "16\n",
      "16\n"
     ]
    }
   ],
   "source": [
    "centroide1 = get_centroide(traj_cluster1)\n",
    "centroide2 = get_centroide(traj_cluster2)\n",
    "#centroide3 = get_centroide(traj_cluster3)\n",
    "centroide1.save_pdb(\"UreI_pH6_CadF_c1.pdb\")\n",
    "centroide2.save_pdb(\"UreI_pH6_CadF_c2.pdb\")\n",
    "#centroide3.save_pdb(\"UreI_pH6_CadE_c3.pdb\")"
   ]
  },
  {
   "cell_type": "code",
   "execution_count": null,
   "metadata": {
    "collapsed": true,
    "jupyter": {
     "outputs_hidden": true
    }
   },
   "outputs": [],
   "source": []
  },
  {
   "cell_type": "code",
   "execution_count": 33,
   "metadata": {},
   "outputs": [
    {
     "data": {
      "text/plain": [
       "array([2, 2, 2, 2, 2, 2, 2, 2, 2, 2, 2, 2, 2, 2, 2, 2, 2, 2, 2, 2, 2, 2, 2,\n",
       "       2, 2, 2, 2, 2, 2, 2, 2, 2, 2, 2, 2, 2, 2, 2, 2, 2, 2, 2, 2, 2, 2, 2,\n",
       "       2, 2, 2, 2, 2, 2, 2, 2, 2, 2, 2, 2, 2, 2, 2, 2, 2, 2, 2, 1, 1, 1, 1,\n",
       "       1, 1, 1, 1, 1, 1, 1, 1, 1, 1, 1, 1, 1, 1, 1, 1, 1, 1, 1, 1, 1, 1, 1,\n",
       "       1, 1, 1, 1, 1, 1, 1, 1, 1, 1, 1, 1, 1, 1, 1, 1, 1, 1, 1, 1, 1, 1, 1,\n",
       "       1, 1, 1, 1, 1, 1, 1, 1, 1, 1], dtype=int32)"
      ]
     },
     "execution_count": 33,
     "metadata": {},
     "output_type": "execute_result"
    }
   ],
   "source": [
    "from scipy.cluster.hierarchy import fcluster\n",
    "fcluster(linkage, 8, depth=10)"
   ]
  },
  {
   "cell_type": "code",
   "execution_count": 39,
   "metadata": {},
   "outputs": [
    {
     "data": {
      "text/plain": [
       "array([1, 1, 1, 1, 1, 1, 1, 1, 1, 1, 1, 1, 1, 1, 1, 1, 1, 1, 1, 1, 1, 1, 1,\n",
       "       1, 1, 1, 1, 1, 1, 1, 1, 1, 1, 1, 1, 1, 1, 1, 1, 1, 1, 1, 1, 1, 1, 1,\n",
       "       1, 1, 1, 1, 1, 1, 1, 1, 1, 1, 1, 1, 1, 1, 1, 1, 1, 1, 1, 1, 1, 1, 1,\n",
       "       1, 1, 1, 1, 1, 1, 1, 1, 1, 1, 1, 1, 1, 1, 1, 1, 1, 1, 1, 1, 1, 1, 1,\n",
       "       1, 1, 1, 1, 1, 1, 1, 1, 1, 1, 1, 1, 1, 1, 1, 1, 1, 1, 1, 1, 1, 1, 1,\n",
       "       1, 1, 1, 1, 1, 1, 1, 1, 1, 1], dtype=int32)"
      ]
     },
     "execution_count": 39,
     "metadata": {},
     "output_type": "execute_result"
    }
   ],
   "source": [
    "from scipy.cluster.hierarchy import fcluster\n",
    "max_d = 30\n",
    "clusters = fcluster(linkage, max_d, criterion='distance')\n",
    "clusters"
   ]
  },
  {
   "cell_type": "code",
   "execution_count": 40,
   "metadata": {},
   "outputs": [
    {
     "data": {
      "text/plain": [
       "<matplotlib.collections.PathCollection at 0x118650450>"
      ]
     },
     "execution_count": 40,
     "metadata": {},
     "output_type": "execute_result"
    },
    {
     "data": {
      "image/png": "[encoded data removed]",
      "text/plain": [
       "<matplotlib.figure.Figure at 0x11bb46b50>"
      ]
     },
     "metadata": {},
     "output_type": "display_data"
    }
   ],
   "source": [
    "plt.figure(figsize=(10, 8))\n",
    "plt.scatter(distances[:,0], distances[:,1], c=clusters, cmap='prism')  # plot points with cluster dependent colors"
   ]
  }
 ],
 "metadata": {
  "kernelspec": {
   "display_name": "Python 3",
   "language": "python",
   "name": "python3"
  },
  "language_info": {
   "codemirror_mode": {
    "name": "ipython",
    "version": 3
   },
   "file_extension": ".py",
   "mimetype": "text/x-python",
   "name": "python",
   "nbconvert_exporter": "python",
   "pygments_lexer": "ipython3",
   "version": "3.6.7"
  }
 },
 "nbformat": 4,
 "nbformat_minor": 4
}
