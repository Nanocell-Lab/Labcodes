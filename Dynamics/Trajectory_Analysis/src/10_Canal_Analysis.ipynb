{
 "cells": [
  {
   "cell_type": "markdown",
   "metadata": {},
   "source": [
    "# Canal Analysis"
   ]
  },
  {
   "cell_type": "markdown",
   "metadata": {},
   "source": [
    "*/ Update July 2018 /*\n",
    "by Alexis Salas-Burgos PhD\n",
    "\n",
    "## MDAnalysis \n",
    "from https://www.mdanalysis.org\n",
    "\n",
    "## MDTraj\n",
    "from http://mdtraj.org\n",
    "\n",
    "## PyTraj\n",
    "from https://amber-md.github.io/pytraj/latest/index.html\n",
    "\n",
    "## Prody\n",
    "from http://prody.csb.pitt.edu"
   ]
  },
  {
   "cell_type": "code",
   "execution_count": 1,
   "metadata": {},
   "outputs": [
    {
     "name": "stderr",
     "output_type": "stream",
     "text": [
      "/usr/local/anaconda3/envs/bio/lib/python3.6/site-packages/MDAnalysis/due.py:88: UserWarning: No module named 'duecredit'\n",
      "  warnings.warn(str(err))\n"
     ]
    }
   ],
   "source": [
    "import MDAnalysis as mda\n",
    "import mdtraj as mdt\n",
    "import pytraj as mdp\n",
    "import prody as pd"
   ]
  },
  {
   "cell_type": "code",
   "execution_count": 2,
   "metadata": {},
   "outputs": [],
   "source": [
    "DCD = \"tutorial/ubq_wb_eq.dcd\"\n",
    "PSF = \"tutorial/ubq_wb.psf\"\n",
    "PDB = \"tutorial/ubq_wb.pdb\"\n",
    "# load trajectory\n",
    "#from MDAnalysis.tests.datafiles import PSF, DCD, PDB\n",
    "## MDAnalysis\n",
    "u = mda.Universe(PSF, DCD)\n",
    "## MDTraj\n",
    "t = mdt.load(DCD, top=PSF)\n",
    "## PyTraj\n",
    "p = mdp.load(DCD, top=PSF)"
   ]
  },
  {
   "cell_type": "code",
   "execution_count": 5,
   "metadata": {},
   "outputs": [],
   "source": [
    "from MDAnalysis.analysis.hole import HOLE\n",
    "from MDAnalysis.tests.datafiles import PDB_HOLE\n",
    "import matplotlib.pyplot as plt\n",
    "H = HOLE(PDB_HOLE, executable=\"/Users/alsalas/Software/hole2/exe/hole\")  # set path to your hole binary\n",
    "H.run()\n",
    "H.collect()"
   ]
  },
  {
   "cell_type": "code",
   "execution_count": 7,
   "metadata": {},
   "outputs": [
    {
     "data": {
      "text/plain": [
       "'./tmpuppiowz1/1grm_single.pdb'"
      ]
     },
     "execution_count": 7,
     "metadata": {},
     "output_type": "execute_result"
    }
   ],
   "source": [
    "H.coordinates"
   ]
  },
  {
   "cell_type": "code",
   "execution_count": 8,
   "metadata": {},
   "outputs": [
    {
     "data": {
      "text/plain": [
       "<matplotlib.axes._subplots.AxesSubplot at 0x1a23d130f0>"
      ]
     },
     "execution_count": 8,
     "metadata": {},
     "output_type": "execute_result"
    },
    {
     "data": {
      "image/png": "[encoded data removed]",
      "text/plain": [
       "<Figure size 432x288 with 1 Axes>"
      ]
     },
     "metadata": {},
     "output_type": "display_data"
    }
   ],
   "source": [
    "H.plot(linewidth=3, color=\"black\", label=False)"
   ]
  }
 ],
 "metadata": {
  "kernelspec": {
   "display_name": "Python 3",
   "language": "python",
   "name": "python3"
  },
  "language_info": {
   "codemirror_mode": {
    "name": "ipython",
    "version": 3
   },
   "file_extension": ".py",
   "mimetype": "text/x-python",
   "name": "python",
   "nbconvert_exporter": "python",
   "pygments_lexer": "ipython3",
   "version": "3.6.6"
  }
 },
 "nbformat": 4,
 "nbformat_minor": 2
}
