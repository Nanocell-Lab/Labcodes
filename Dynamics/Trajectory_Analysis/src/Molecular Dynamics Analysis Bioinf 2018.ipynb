{
 "cells": [
  {
   "cell_type": "markdown",
   "metadata": {},
   "source": [
    "# Análisis de SMD desde NAMD"
   ]
  },
  {
   "cell_type": "markdown",
   "metadata": {},
   "source": [
    "## 1. Análisis del log de SMD\n",
    "Mayo-Junio 2018"
   ]
  },
  {
   "cell_type": "code",
   "execution_count": 1,
   "metadata": {
    "collapsed": true
   },
   "outputs": [],
   "source": [
    "file = \"run/ubq_wb_eq.out\""
   ]
  },
  {
   "cell_type": "code",
   "execution_count": 74,
   "metadata": {
    "collapsed": true
   },
   "outputs": [],
   "source": [
    "labels = [\"\",\"TS\",\"BOND\",\"ANGLE\",\"DIHED\",\"IMPRP\",\"ELECT\",\"VDW\",\"BOUNDARY\",\"MISC\",\"KINETIC\",\"TOTAL\",\n",
    "          \"TEMP\",\"POTENTIAL\",\"TOTAL3\",\"TEMPAVG\",\"PRESSURE\",\"GPRESSURE\",\"VOLUME\",\"PRESSAVG\",\"GPRESSAVG\"]"
   ]
  },
  {
   "cell_type": "code",
   "execution_count": 37,
   "metadata": {
    "collapsed": true
   },
   "outputs": [],
   "source": [
    "with open(file, \"r\") as f:\n",
    "    lineas = f.readlines()\n",
    "    energy = []\n",
    "    for l in lineas:\n",
    "        if l.startswith(\"ENERGY:\") == True:\n",
    "            e = [x for x in l.split(\" \") if len(x)>0]\n",
    "            energy.append(e)\n",
    "            "
   ]
  },
  {
   "cell_type": "code",
   "execution_count": 56,
   "metadata": {
    "collapsed": true
   },
   "outputs": [
    {
     "name": "stdout",
     "output_type": "stream",
     "text": [
      "[['ENERGY:',\n",
      "  '0',\n",
      "  '263.6137',\n",
      "  '847.5817',\n",
      "  '263.7656',\n",
      "  '10.7299',\n",
      "  '-18211.2723',\n",
      "  '2548343.3659',\n",
      "  '0.0000',\n",
      "  '0.0000',\n",
      "  '0.0000',\n",
      "  '2531517.7844',\n",
      "  '0.0000',\n",
      "  '2531517.7844',\n",
      "  '2531517.7844',\n",
      "  '0.0000',\n",
      "  '7207810.0187',\n",
      "  '7445540.5660',\n",
      "  '77280.0000',\n",
      "  '7207810.0187',\n",
      "  '7445540.5660\\n'],\n",
      " ['ENERGY:',\n",
      "  '1',\n",
      "  '263.2963',\n",
      "  '846.9567',\n",
      "  '263.8745',\n",
      "  '10.9841',\n",
      "  '-18371.5667',\n",
      "  '925654.2167',\n",
      "  '0.0000',\n",
      "  '0.0000',\n",
      "  '0.0000',\n",
      "  '908667.7616',\n",
      "  '0.0000',\n",
      "  '908667.7616',\n",
      "  '908667.7616',\n",
      "  '0.0000',\n",
      "  '2284860.4948',\n",
      "  '2393985.5916',\n",
      "  '77280.0000',\n",
      "  '2284860.4948',\n",
      "  '2393985.5916\\n'],\n",
      " ['ENERGY:',\n",
      "  '2',\n",
      "  '263.2963',\n",
      "  '846.9567',\n",
      "  '263.8745',\n",
      "  '10.9841',\n",
      "  '-18413.3573',\n",
      "  '644676.1996',\n",
      "  '0.0000',\n",
      "  '0.0000',\n",
      "  '0.0000',\n",
      "  '627647.9538',\n",
      "  '0.0000',\n",
      "  '627647.9538',\n",
      "  '627647.9538',\n",
      "  '0.0000',\n",
      "  '1943975.8185',\n",
      "  '2042451.4937',\n",
      "  '77280.0000',\n",
      "  '1943975.8185',\n",
      "  '2042451.4937\\n'],\n",
      " ['ENERGY:',\n",
      "  '3',\n",
      "  '263.2963',\n",
      "  '846.9567',\n",
      "  '263.8745',\n",
      "  '10.9841',\n",
      "  '-18463.3325',\n",
      "  '202064.6757',\n",
      "  '0.0000',\n",
      "  '0.0000',\n",
      "  '0.0000',\n",
      "  '184986.4547',\n",
      "  '0.0000',\n",
      "  '184986.4547',\n",
      "  '184986.4547',\n",
      "  '0.0000',\n",
      "  '738213.8344',\n",
      "  '755289.1645',\n",
      "  '77280.0000',\n",
      "  '738213.8344',\n",
      "  '755289.1645\\n'],\n",
      " ['ENERGY:',\n",
      "  '4',\n",
      "  '263.2963',\n",
      "  '846.9567',\n",
      "  '263.8745',\n",
      "  '10.9841',\n",
      "  '-18502.4445',\n",
      "  '39113.3916',\n",
      "  '0.0000',\n",
      "  '0.0000',\n",
      "  '0.0000',\n",
      "  '21996.0586',\n",
      "  '0.0000',\n",
      "  '21996.0586',\n",
      "  '21996.0586',\n",
      "  '0.0000',\n",
      "  '151771.2507',\n",
      "  '136282.3341',\n",
      "  '77280.0000',\n",
      "  '151771.2507',\n",
      "  '136282.3341\\n'],\n",
      " ['ENERGY:',\n",
      "  '5',\n",
      "  '263.2963',\n",
      "  '846.9567',\n",
      "  '263.8745',\n",
      "  '10.9841',\n",
      "  '-18509.4350',\n",
      "  '17874.0849',\n",
      "  '0.0000',\n",
      "  '0.0000',\n",
      "  '0.0000',\n",
      "  '749.7614',\n",
      "  '0.0000',\n",
      "  '749.7614',\n",
      "  '749.7614',\n",
      "  '0.0000',\n",
      "  '75186.4904',\n",
      "  '55444.3021',\n",
      "  '77280.0000',\n",
      "  '75186.4904',\n",
      "  '55444.3021\\n'],\n",
      " ['ENERGY:',\n",
      "  '6',\n",
      "  '263.2963',\n",
      "  '846.9567',\n",
      "  '263.8745',\n",
      "  '10.9841',\n",
      "  '-18514.4441',\n",
      "  '14494.9756',\n",
      "  '0.0000',\n",
      "  '0.0000',\n",
      "  '0.0000',\n",
      "  '-2634.3569',\n",
      "  '0.0000',\n",
      "  '-2634.3569',\n",
      "  '-2634.3569',\n",
      "  '0.0000',\n",
      "  '62979.5611',\n",
      "  '42735.0510',\n",
      "  '77280.0000',\n",
      "  '62979.5611',\n",
      "  '42735.0510\\n'],\n",
      " ['ENERGY:',\n",
      "  '7',\n",
      "  '263.2963',\n",
      "  '846.9567',\n",
      "  '263.8745',\n",
      "  '10.9841',\n",
      "  '-18517.7955',\n",
      "  '13790.5031',\n",
      "  '0.0000',\n",
      "  '0.0000',\n",
      "  '0.0000',\n",
      "  '-3342.1808',\n",
      "  '0.0000',\n",
      "  '-3342.1808',\n",
      "  '-3342.1808',\n",
      "  '0.0000',\n",
      "  '60423.3747',\n",
      "  '40074.8072',\n",
      "  '77280.0000',\n",
      "  '60423.3747',\n",
      "  '40074.8072\\n'],\n",
      " ['ENERGY:',\n",
      "  '8',\n",
      "  '228.6045',\n",
      "  '819.9210',\n",
      "  '263.5356',\n",
      "  '10.5156',\n",
      "  '-18530.0066',\n",
      "  '9847.8970',\n",
      "  '0.0000',\n",
      "  '0.0000',\n",
      "  '0.0000',\n",
      "  '-7359.5330',\n",
      "  '0.0000',\n",
      "  '-7359.5330',\n",
      "  '-7359.5330',\n",
      "  '0.0000',\n",
      "  '46072.2738',\n",
      "  '33181.2558',\n",
      "  '77280.0000',\n",
      "  '46072.2738',\n",
      "  '33181.2558\\n'],\n",
      " ['ENERGY:',\n",
      "  '9',\n",
      "  '200.4155',\n",
      "  '795.4586',\n",
      "  '263.2224',\n",
      "  '10.2334',\n",
      "  '-18543.9506',\n",
      "  '7502.0710',\n",
      "  '0.0000',\n",
      "  '0.0000',\n",
      "  '0.0000',\n",
      "  '-9772.5496',\n",
      "  '0.0000',\n",
      "  '-9772.5496',\n",
      "  '-9772.5496',\n",
      "  '0.0000',\n",
      "  '37519.0143',\n",
      "  '24587.5835',\n",
      "  '77280.0000',\n",
      "  '37519.0143',\n",
      "  '24587.5835\\n'],\n",
      " ['ENERGY:',\n",
      "  '10',\n",
      "  '178.7496',\n",
      "  '773.5228',\n",
      "  '262.9334',\n",
      "  '10.1196',\n",
      "  '-18560.4238',\n",
      "  '6023.5811',\n",
      "  '0.0000',\n",
      "  '0.0000',\n",
      "  '0.0000',\n",
      "  '-11311.5172',\n",
      "  '0.0000',\n",
      "  '-11311.5172',\n",
      "  '-11311.5172',\n",
      "  '0.0000',\n",
      "  '32121.4332',\n",
      "  '19210.4390',\n",
      "  '77280.0000',\n",
      "  '32121.4332',\n",
      "  '19210.4390\\n'],\n",
      " ['ENERGY:',\n",
      "  '11',\n",
      "  '101.0407',\n",
      "  '698.8575',\n",
      "  '261.4477',\n",
      "  '8.8396',\n",
      "  '-18657.4202',\n",
      "  '4408.8565',\n",
      "  '0.0000',\n",
      "  '0.0000',\n",
      "  '0.0000',\n",
      "  '-13178.3781',\n",
      "  '0.0000',\n",
      "  '-13178.3781',\n",
      "  '-13178.3781',\n",
      "  '0.0000',\n",
      "  '26191.2412',\n",
      "  '13373.6293',\n",
      "  '77280.0000',\n",
      "  '26191.2412',\n",
      "  '13373.6293\\n']]\n"
     ]
    }
   ],
   "source": [
    "from pprint import pprint\n",
    "pprint(energy[0:12])"
   ]
  },
  {
   "cell_type": "code",
   "execution_count": 59,
   "metadata": {},
   "outputs": [
    {
     "name": "stdout",
     "output_type": "stream",
     "text": [
      "TEMP\n"
     ]
    }
   ],
   "source": [
    "x = []\n",
    "print(labels[12])\n",
    "for e in energy[1010:]:\n",
    "    temp = e[12]\n",
    "    x.append(temp)"
   ]
  },
  {
   "cell_type": "code",
   "execution_count": 7,
   "metadata": {},
   "outputs": [],
   "source": [
    "%matplotlib inline"
   ]
  },
  {
   "cell_type": "code",
   "execution_count": 61,
   "metadata": {},
   "outputs": [
    {
     "data": {
      "text/plain": [
       "[<matplotlib.lines.Line2D at 0x106f79a90>]"
      ]
     },
     "execution_count": 61,
     "metadata": {},
     "output_type": "execute_result"
    },
    {
     "data": {
      "image/png": "[encoded data removed]",
      "text/plain": [
       "<matplotlib.figure.Figure at 0x1066c6518>"
      ]
     },
     "metadata": {},
     "output_type": "display_data"
    }
   ],
   "source": [
    "import pylab\n",
    "import matplotlib.pyplot as plt\n",
    "import numpy as np\n",
    "\n",
    "fig, ax = plt.subplots()\n",
    "plt.title(\"Energía de la DM de eq UBQ\")\n",
    "plt.plot(x)"
   ]
  },
  {
   "cell_type": "code",
   "execution_count": 89,
   "metadata": {
    "collapsed": true
   },
   "outputs": [],
   "source": [
    "def grafico(pos=1):    \n",
    "    x = []\n",
    "    print(labels[pos])\n",
    "    for e in energy[50:1000]:\n",
    "        temp = e[pos]\n",
    "        x.append(temp)\n",
    "    \n",
    "    import pylab\n",
    "    import matplotlib.pyplot as plt\n",
    "    import numpy as np\n",
    "\n",
    "    fig, ax = plt.subplots()\n",
    "    plt.title(\"Energía de %s desde la DM de eq UBQ\"%labels[pos])\n",
    "    plt.plot(x)"
   ]
  },
  {
   "cell_type": "code",
   "execution_count": 90,
   "metadata": {},
   "outputs": [
    {
     "name": "stdout",
     "output_type": "stream",
     "text": [
      "TOTAL\n"
     ]
    },
    {
     "data": {
      "image/png": "[encoded data removed]",
      "text/plain": [
       "<matplotlib.figure.Figure at 0x107d9bd68>"
      ]
     },
     "metadata": {},
     "output_type": "display_data"
    }
   ],
   "source": [
    "grafico(11)"
   ]
  },
  {
   "cell_type": "markdown",
   "metadata": {},
   "source": [
    "## 2. RMSD y RMSF"
   ]
  },
  {
   "cell_type": "markdown",
   "metadata": {},
   "source": [
    "Visualizar nglview en jupyter\n",
    "* https://github.com/arose/nglview\n",
    "* pip install nglview==1.0\n",
    "* jupyter-nbextension enable nglview --py --sys-prefix"
   ]
  },
  {
   "cell_type": "code",
   "execution_count": 1,
   "metadata": {},
   "outputs": [],
   "source": [
    "import nglview as nv\n",
    "import pytraj as pt"
   ]
  },
  {
   "cell_type": "code",
   "execution_count": 2,
   "metadata": {},
   "outputs": [],
   "source": [
    "traj = pt.load(\"run/ubq_wb_eq.dcd\", top=\"common/ubq_wb.psf\")\n",
    "traj.strip(\":TIP3\") # adding new trajectory\n",
    "view = nv.show_pytraj(traj)"
   ]
  },
  {
   "cell_type": "code",
   "execution_count": 9,
   "metadata": {},
   "outputs": [
    {
     "data": {
      "application/vnd.jupyter.widget-view+json": {
       "model_id": "f97b1e5e1252495fbc157a50bab1c8a2",
       "version_major": 2,
       "version_minor": 0
      },
      "text/plain": [
       "NGLWidget(count=100)"
      ]
     },
     "metadata": {},
     "output_type": "display_data"
    }
   ],
   "source": [
    "view"
   ]
  },
  {
   "cell_type": "markdown",
   "metadata": {},
   "source": [
    "## RMSD con Pytraj"
   ]
  },
  {
   "cell_type": "code",
   "execution_count": 4,
   "metadata": {},
   "outputs": [],
   "source": [
    "data = pt.distance_rmsd(traj, ref=-1)\n",
    "# compute distance_rmsd to first frame with mask = '@CA'\n",
    "data = pt.distance_rmsd(traj, ref=0, mask='@CA')"
   ]
  },
  {
   "cell_type": "code",
   "execution_count": 5,
   "metadata": {},
   "outputs": [],
   "source": [
    "import pylab\n",
    "import matplotlib.pyplot as plt\n",
    "import numpy as np"
   ]
  },
  {
   "cell_type": "code",
   "execution_count": 8,
   "metadata": {
    "scrolled": true
   },
   "outputs": [
    {
     "data": {
      "text/plain": [
       "[<matplotlib.lines.Line2D at 0x118f4a250>]"
      ]
     },
     "execution_count": 8,
     "metadata": {},
     "output_type": "execute_result"
    },
    {
     "data": {
      "image/png": "[encoded data removed]",
      "text/plain": [
       "<matplotlib.figure.Figure at 0x118ea99d0>"
      ]
     },
     "metadata": {},
     "output_type": "display_data"
    }
   ],
   "source": [
    "plt.plot(data)"
   ]
  },
  {
   "cell_type": "markdown",
   "metadata": {
    "collapsed": true
   },
   "source": [
    "## RMSF con pytraj"
   ]
  },
  {
   "cell_type": "code",
   "execution_count": 38,
   "metadata": {
    "collapsed": true
   },
   "outputs": [],
   "source": [
    "data = pt.rmsf(traj, '@CA', options='byatom') # or pt.atomicfluct"
   ]
  },
  {
   "cell_type": "code",
   "execution_count": 39,
   "metadata": {},
   "outputs": [
    {
     "data": {
      "text/plain": [
       "<matplotlib.collections.PathCollection at 0x11b3c9748>"
      ]
     },
     "execution_count": 39,
     "metadata": {},
     "output_type": "execute_result"
    },
    {
     "data": {
      "image/png": "[encoded data removed]",
      "text/plain": [
       "<matplotlib.figure.Figure at 0x11ae93940>"
      ]
     },
     "metadata": {},
     "output_type": "display_data"
    }
   ],
   "source": [
    "plt.scatter([x[0] for x in data], [y[1] for y in data])"
   ]
  }
 ],
 "metadata": {
  "kernelspec": {
   "display_name": "Python 3",
   "language": "python",
   "name": "python3"
  },
  "language_info": {
   "codemirror_mode": {
    "name": "ipython",
    "version": 2
   },
   "file_extension": ".py",
   "mimetype": "text/x-python",
   "name": "python",
   "nbconvert_exporter": "python",
   "pygments_lexer": "ipython2",
   "version": "2.7.15"
  }
 },
 "nbformat": 4,
 "nbformat_minor": 2
}
