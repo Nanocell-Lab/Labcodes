{
 "cells": [
  {
   "cell_type": "markdown",
   "metadata": {},
   "source": [
    "# Trajectories Analyses\n",
    "Módulos de Python para analizar trayectorias de dinámica molecular\n",
    "\n",
    "*/ Update July 2018 /*\n",
    "\n",
    "## MDAnalysis \n",
    "from https://www.mdanalysis.org\n",
    "\n",
    "## MDTraj\n",
    "from http://mdtraj.org\n",
    "\n",
    "## PyTraj\n",
    "from https://amber-md.github.io/pytraj/latest/index.html\n",
    "\n",
    "## Prody\n",
    "from http://prody.csb.pitt.edu"
   ]
  },
  {
   "cell_type": "markdown",
   "metadata": {},
   "source": [
    "# Install with conda in python 3\n",
    "https://conda.io/miniconda.html\n",
    "* anaconda3/bin/conda update biopython\n",
    "* anaconda3/bin/conda upgrade numpy\n",
    "* anaconda3/bin/pip install --upgrade pip\n",
    "* anaconda3/bin/pip install prody\n",
    "* anaconda3/bin/conda install ambertools=18 -c http://ambermd.org/downloads/ambertools/conda/\n",
    "* anaconda3/bin/conda install mdtraj\n",
    "* anaconda3/bin/conda install mdanalysis -c conda-forge\n",
    "* anaconda3/bin/conda install MDAnalysisTests -c conda-forge\n",
    "* anaconda3/bin/conda install nglview\n",
    "* anaconda3/bin/conda install seaborn\n",
    "* anaconda3/bin/pip install pbxplore\n",
    "* anaconda3/bin/pip install weblogo"
   ]
  },
  {
   "cell_type": "code",
   "execution_count": 1,
   "metadata": {},
   "outputs": [
    {
     "name": "stderr",
     "output_type": "stream",
     "text": [
      "/usr/local/anaconda3/envs/Dynamics/lib/python3.8/site-packages/Bio/SubsMat/__init__.py:126: BiopythonDeprecationWarning: Bio.SubsMat has been deprecated, and we intend to remove it in a future release of Biopython. As an alternative, please consider using Bio.Align.substitution_matrices as a replacement, and contact the Biopython developers if you still need the Bio.SubsMat module.\n",
      "  warnings.warn(\n"
     ]
    }
   ],
   "source": [
    "import MDAnalysis as mda\n",
    "import mdtraj as mdt\n",
    "import pytraj as mdp\n",
    "import prody as pd"
   ]
  },
  {
   "cell_type": "code",
   "execution_count": 2,
   "metadata": {},
   "outputs": [],
   "source": [
    "from MDAnalysis.tests.datafiles import PSF, DCD\n",
    "\n",
    "## MDAnalysis\n",
    "u = mda.Universe(PSF, DCD)\n",
    "\n",
    "## MDTraj\n",
    "t = mdt.load(DCD, top=PSF)\n",
    "\n",
    "## PyTraj\n",
    "p = mdp.load(DCD, top=PSF)"
   ]
  },
  {
   "cell_type": "code",
   "execution_count": 12,
   "metadata": {
    "collapsed": true,
    "jupyter": {
     "outputs_hidden": true
    }
   },
   "outputs": [
    {
     "name": "stdout",
     "output_type": "stream",
     "text": [
      "Collecting nglview\n",
      "  Downloading nglview-3.0.3.tar.gz (5.7 MB)\n",
      "\u001b[K     |████████████████████████████████| 5.7 MB 731 kB/s eta 0:00:01\n",
      "\u001b[?25h  Installing build dependencies ... \u001b[?25ldone\n",
      "\u001b[?25h  Getting requirements to build wheel ... \u001b[?25ldone\n",
      "\u001b[?25h    Preparing wheel metadata ... \u001b[?25ldone\n",
      "\u001b[?25hRequirement already satisfied: numpy in /usr/local/anaconda3/envs/Dynamics/lib/python3.8/site-packages (from nglview) (1.19.2)\n",
      "Requirement already satisfied: ipywidgets>=7 in /usr/local/anaconda3/envs/Dynamics/lib/python3.8/site-packages (from nglview) (7.5.1)\n",
      "Collecting jupyterlab-widgets\n",
      "  Using cached jupyterlab_widgets-1.0.0-py3-none-any.whl (243 kB)\n",
      "Requirement already satisfied: widgetsnbextension~=3.5.0 in /usr/local/anaconda3/envs/Dynamics/lib/python3.8/site-packages (from ipywidgets>=7->nglview) (3.5.1)\n",
      "Requirement already satisfied: traitlets>=4.3.1 in /usr/local/anaconda3/envs/Dynamics/lib/python3.8/site-packages (from ipywidgets>=7->nglview) (5.0.5)\n",
      "Requirement already satisfied: ipython>=4.0.0; python_version >= \"3.3\" in /usr/local/anaconda3/envs/Dynamics/lib/python3.8/site-packages (from ipywidgets>=7->nglview) (7.18.1)\n",
      "Requirement already satisfied: ipykernel>=4.5.1 in /usr/local/anaconda3/envs/Dynamics/lib/python3.8/site-packages (from ipywidgets>=7->nglview) (5.3.4)\n",
      "Requirement already satisfied: nbformat>=4.2.0 in /usr/local/anaconda3/envs/Dynamics/lib/python3.8/site-packages (from ipywidgets>=7->nglview) (5.0.8)\n",
      "Requirement already satisfied: notebook>=4.4.1 in /usr/local/anaconda3/envs/Dynamics/lib/python3.8/site-packages (from widgetsnbextension~=3.5.0->ipywidgets>=7->nglview) (6.1.4)\n",
      "Requirement already satisfied: ipython-genutils in /usr/local/anaconda3/envs/Dynamics/lib/python3.8/site-packages (from traitlets>=4.3.1->ipywidgets>=7->nglview) (0.2.0)\n",
      "Requirement already satisfied: backcall in /usr/local/anaconda3/envs/Dynamics/lib/python3.8/site-packages (from ipython>=4.0.0; python_version >= \"3.3\"->ipywidgets>=7->nglview) (0.2.0)\n",
      "Requirement already satisfied: pygments in /usr/local/anaconda3/envs/Dynamics/lib/python3.8/site-packages (from ipython>=4.0.0; python_version >= \"3.3\"->ipywidgets>=7->nglview) (2.7.1)\n",
      "Requirement already satisfied: pexpect>4.3; sys_platform != \"win32\" in /usr/local/anaconda3/envs/Dynamics/lib/python3.8/site-packages (from ipython>=4.0.0; python_version >= \"3.3\"->ipywidgets>=7->nglview) (4.8.0)\n",
      "Requirement already satisfied: jedi>=0.10 in /usr/local/anaconda3/envs/Dynamics/lib/python3.8/site-packages (from ipython>=4.0.0; python_version >= \"3.3\"->ipywidgets>=7->nglview) (0.17.2)\n",
      "Requirement already satisfied: decorator in /usr/local/anaconda3/envs/Dynamics/lib/python3.8/site-packages (from ipython>=4.0.0; python_version >= \"3.3\"->ipywidgets>=7->nglview) (4.4.2)\n",
      "Requirement already satisfied: pickleshare in /usr/local/anaconda3/envs/Dynamics/lib/python3.8/site-packages (from ipython>=4.0.0; python_version >= \"3.3\"->ipywidgets>=7->nglview) (0.7.5)\n",
      "Requirement already satisfied: setuptools>=18.5 in /usr/local/anaconda3/envs/Dynamics/lib/python3.8/site-packages (from ipython>=4.0.0; python_version >= \"3.3\"->ipywidgets>=7->nglview) (49.6.0.post20201009)\n",
      "Requirement already satisfied: appnope; sys_platform == \"darwin\" in /usr/local/anaconda3/envs/Dynamics/lib/python3.8/site-packages (from ipython>=4.0.0; python_version >= \"3.3\"->ipywidgets>=7->nglview) (0.1.0)\n",
      "Requirement already satisfied: prompt-toolkit!=3.0.0,!=3.0.1,<3.1.0,>=2.0.0 in /usr/local/anaconda3/envs/Dynamics/lib/python3.8/site-packages (from ipython>=4.0.0; python_version >= \"3.3\"->ipywidgets>=7->nglview) (3.0.8)\n",
      "Requirement already satisfied: jupyter-client in /usr/local/anaconda3/envs/Dynamics/lib/python3.8/site-packages (from ipykernel>=4.5.1->ipywidgets>=7->nglview) (6.1.7)\n",
      "Requirement already satisfied: tornado>=4.2 in /usr/local/anaconda3/envs/Dynamics/lib/python3.8/site-packages (from ipykernel>=4.5.1->ipywidgets>=7->nglview) (6.0.4)\n",
      "Requirement already satisfied: jupyter-core in /usr/local/anaconda3/envs/Dynamics/lib/python3.8/site-packages (from nbformat>=4.2.0->ipywidgets>=7->nglview) (4.6.3)\n",
      "Requirement already satisfied: jsonschema!=2.5.0,>=2.4 in /usr/local/anaconda3/envs/Dynamics/lib/python3.8/site-packages (from nbformat>=4.2.0->ipywidgets>=7->nglview) (3.2.0)\n",
      "Requirement already satisfied: argon2-cffi in /usr/local/anaconda3/envs/Dynamics/lib/python3.8/site-packages (from notebook>=4.4.1->widgetsnbextension~=3.5.0->ipywidgets>=7->nglview) (20.1.0)\n",
      "Requirement already satisfied: terminado>=0.8.3 in /usr/local/anaconda3/envs/Dynamics/lib/python3.8/site-packages (from notebook>=4.4.1->widgetsnbextension~=3.5.0->ipywidgets>=7->nglview) (0.9.1)\n",
      "Requirement already satisfied: prometheus-client in /usr/local/anaconda3/envs/Dynamics/lib/python3.8/site-packages (from notebook>=4.4.1->widgetsnbextension~=3.5.0->ipywidgets>=7->nglview) (0.8.0)\n",
      "Requirement already satisfied: Send2Trash in /usr/local/anaconda3/envs/Dynamics/lib/python3.8/site-packages (from notebook>=4.4.1->widgetsnbextension~=3.5.0->ipywidgets>=7->nglview) (1.5.0)\n",
      "Requirement already satisfied: pyzmq>=17 in /usr/local/anaconda3/envs/Dynamics/lib/python3.8/site-packages (from notebook>=4.4.1->widgetsnbextension~=3.5.0->ipywidgets>=7->nglview) (19.0.2)\n",
      "Requirement already satisfied: nbconvert in /usr/local/anaconda3/envs/Dynamics/lib/python3.8/site-packages (from notebook>=4.4.1->widgetsnbextension~=3.5.0->ipywidgets>=7->nglview) (6.0.7)\n",
      "Requirement already satisfied: jinja2 in /usr/local/anaconda3/envs/Dynamics/lib/python3.8/site-packages (from notebook>=4.4.1->widgetsnbextension~=3.5.0->ipywidgets>=7->nglview) (2.11.2)\n",
      "Requirement already satisfied: ptyprocess>=0.5 in /usr/local/anaconda3/envs/Dynamics/lib/python3.8/site-packages (from pexpect>4.3; sys_platform != \"win32\"->ipython>=4.0.0; python_version >= \"3.3\"->ipywidgets>=7->nglview) (0.6.0)\n",
      "Requirement already satisfied: parso<0.8.0,>=0.7.0 in /usr/local/anaconda3/envs/Dynamics/lib/python3.8/site-packages (from jedi>=0.10->ipython>=4.0.0; python_version >= \"3.3\"->ipywidgets>=7->nglview) (0.7.1)\n",
      "Requirement already satisfied: wcwidth in /usr/local/anaconda3/envs/Dynamics/lib/python3.8/site-packages (from prompt-toolkit!=3.0.0,!=3.0.1,<3.1.0,>=2.0.0->ipython>=4.0.0; python_version >= \"3.3\"->ipywidgets>=7->nglview) (0.2.5)\n",
      "Requirement already satisfied: python-dateutil>=2.1 in /usr/local/anaconda3/envs/Dynamics/lib/python3.8/site-packages (from jupyter-client->ipykernel>=4.5.1->ipywidgets>=7->nglview) (2.8.1)\n",
      "Requirement already satisfied: attrs>=17.4.0 in /usr/local/anaconda3/envs/Dynamics/lib/python3.8/site-packages (from jsonschema!=2.5.0,>=2.4->nbformat>=4.2.0->ipywidgets>=7->nglview) (20.2.0)\n",
      "Requirement already satisfied: six>=1.11.0 in /usr/local/anaconda3/envs/Dynamics/lib/python3.8/site-packages (from jsonschema!=2.5.0,>=2.4->nbformat>=4.2.0->ipywidgets>=7->nglview) (1.15.0)\n",
      "Requirement already satisfied: pyrsistent>=0.14.0 in /usr/local/anaconda3/envs/Dynamics/lib/python3.8/site-packages (from jsonschema!=2.5.0,>=2.4->nbformat>=4.2.0->ipywidgets>=7->nglview) (0.17.3)\n",
      "Requirement already satisfied: cffi>=1.0.0 in /usr/local/anaconda3/envs/Dynamics/lib/python3.8/site-packages (from argon2-cffi->notebook>=4.4.1->widgetsnbextension~=3.5.0->ipywidgets>=7->nglview) (1.14.3)\n",
      "Requirement already satisfied: nbclient<0.6.0,>=0.5.0 in /usr/local/anaconda3/envs/Dynamics/lib/python3.8/site-packages (from nbconvert->notebook>=4.4.1->widgetsnbextension~=3.5.0->ipywidgets>=7->nglview) (0.5.1)\n",
      "Requirement already satisfied: mistune<2,>=0.8.1 in /usr/local/anaconda3/envs/Dynamics/lib/python3.8/site-packages (from nbconvert->notebook>=4.4.1->widgetsnbextension~=3.5.0->ipywidgets>=7->nglview) (0.8.4)\n",
      "Requirement already satisfied: pandocfilters>=1.4.1 in /usr/local/anaconda3/envs/Dynamics/lib/python3.8/site-packages (from nbconvert->notebook>=4.4.1->widgetsnbextension~=3.5.0->ipywidgets>=7->nglview) (1.4.2)\n",
      "Requirement already satisfied: testpath in /usr/local/anaconda3/envs/Dynamics/lib/python3.8/site-packages (from nbconvert->notebook>=4.4.1->widgetsnbextension~=3.5.0->ipywidgets>=7->nglview) (0.4.4)\n",
      "Requirement already satisfied: entrypoints>=0.2.2 in /usr/local/anaconda3/envs/Dynamics/lib/python3.8/site-packages (from nbconvert->notebook>=4.4.1->widgetsnbextension~=3.5.0->ipywidgets>=7->nglview) (0.3)\n",
      "Requirement already satisfied: defusedxml in /usr/local/anaconda3/envs/Dynamics/lib/python3.8/site-packages (from nbconvert->notebook>=4.4.1->widgetsnbextension~=3.5.0->ipywidgets>=7->nglview) (0.6.0)\n",
      "Requirement already satisfied: jupyterlab-pygments in /usr/local/anaconda3/envs/Dynamics/lib/python3.8/site-packages (from nbconvert->notebook>=4.4.1->widgetsnbextension~=3.5.0->ipywidgets>=7->nglview) (0.1.2)\n",
      "Requirement already satisfied: bleach in /usr/local/anaconda3/envs/Dynamics/lib/python3.8/site-packages (from nbconvert->notebook>=4.4.1->widgetsnbextension~=3.5.0->ipywidgets>=7->nglview) (3.2.1)\n",
      "Requirement already satisfied: MarkupSafe>=0.23 in /usr/local/anaconda3/envs/Dynamics/lib/python3.8/site-packages (from jinja2->notebook>=4.4.1->widgetsnbextension~=3.5.0->ipywidgets>=7->nglview) (1.1.1)\n",
      "Requirement already satisfied: pycparser in /usr/local/anaconda3/envs/Dynamics/lib/python3.8/site-packages (from cffi>=1.0.0->argon2-cffi->notebook>=4.4.1->widgetsnbextension~=3.5.0->ipywidgets>=7->nglview) (2.20)\n",
      "Requirement already satisfied: nest-asyncio in /usr/local/anaconda3/envs/Dynamics/lib/python3.8/site-packages (from nbclient<0.6.0,>=0.5.0->nbconvert->notebook>=4.4.1->widgetsnbextension~=3.5.0->ipywidgets>=7->nglview) (1.4.1)\n",
      "Requirement already satisfied: async-generator in /usr/local/anaconda3/envs/Dynamics/lib/python3.8/site-packages (from nbclient<0.6.0,>=0.5.0->nbconvert->notebook>=4.4.1->widgetsnbextension~=3.5.0->ipywidgets>=7->nglview) (1.10)\n",
      "Requirement already satisfied: packaging in /usr/local/anaconda3/envs/Dynamics/lib/python3.8/site-packages (from bleach->nbconvert->notebook>=4.4.1->widgetsnbextension~=3.5.0->ipywidgets>=7->nglview) (20.4)\n",
      "Requirement already satisfied: webencodings in /usr/local/anaconda3/envs/Dynamics/lib/python3.8/site-packages (from bleach->nbconvert->notebook>=4.4.1->widgetsnbextension~=3.5.0->ipywidgets>=7->nglview) (0.5.1)\n",
      "Requirement already satisfied: pyparsing>=2.0.2 in /usr/local/anaconda3/envs/Dynamics/lib/python3.8/site-packages (from packaging->bleach->nbconvert->notebook>=4.4.1->widgetsnbextension~=3.5.0->ipywidgets>=7->nglview) (2.4.7)\n",
      "Building wheels for collected packages: nglview\n",
      "  Building wheel for nglview (PEP 517) ... \u001b[?25ldone\n",
      "\u001b[?25h  Created wheel for nglview: filename=nglview-3.0.3-py3-none-any.whl size=8057549 sha256=1bf8a2cd8b84178a44df6dfa0a00c5f6d915b3b48588fc2502fa8a12bdbfd3fe\n",
      "  Stored in directory: /Users/alsalas/Library/Caches/pip/wheels/83/a4/c3/283e7ba3ea501b8fb6fb4acc8f11d6aada1f1640d794db0c41\n",
      "Successfully built nglview\n",
      "Installing collected packages: jupyterlab-widgets, nglview\n",
      "Successfully installed jupyterlab-widgets-1.0.0 nglview-3.0.3\n"
     ]
    }
   ],
   "source": [
    "!pip install nglview"
   ]
  },
  {
   "cell_type": "code",
   "execution_count": 3,
   "metadata": {
    "collapsed": true,
    "jupyter": {
     "outputs_hidden": true
    }
   },
   "outputs": [
    {
     "ename": "OSError",
     "evalue": "/Users/alsalas/GDrive/Jupyter/Dynamics/Trayectorias/common/ubq_wb.pdb is not a valid filename or a valid PDB identifier.",
     "output_type": "error",
     "traceback": [
      "\u001b[0;31m---------------------------------------------------------------------------\u001b[0m",
      "\u001b[0;31mOSError\u001b[0m                                   Traceback (most recent call last)",
      "\u001b[0;32m<ipython-input-3-62a3c01b4aeb>\u001b[0m in \u001b[0;36m<module>\u001b[0;34m\u001b[0m\n\u001b[1;32m      2\u001b[0m \u001b[0;31m# DCD file from MDAnalysis is not recognized\u001b[0m\u001b[0;34m\u001b[0m\u001b[0;34m\u001b[0m\u001b[0;34m\u001b[0m\u001b[0m\n\u001b[1;32m      3\u001b[0m \u001b[0mq\u001b[0m \u001b[0;34m=\u001b[0m \u001b[0mpd\u001b[0m\u001b[0;34m.\u001b[0m\u001b[0mTrajectory\u001b[0m\u001b[0;34m(\u001b[0m\u001b[0;34m'/Users/alsalas/GDrive/Jupyter/Dynamics/Trayectorias/run/ubq_wb_eq.dcd'\u001b[0m\u001b[0;34m)\u001b[0m\u001b[0;34m\u001b[0m\u001b[0;34m\u001b[0m\u001b[0m\n\u001b[0;32m----> 4\u001b[0;31m \u001b[0mpdb\u001b[0m \u001b[0;34m=\u001b[0m \u001b[0mpd\u001b[0m\u001b[0;34m.\u001b[0m\u001b[0mparsePDB\u001b[0m\u001b[0;34m(\u001b[0m\u001b[0;34m'/Users/alsalas/GDrive/Jupyter/Dynamics/Trayectorias/common/ubq_wb.pdb'\u001b[0m\u001b[0;34m)\u001b[0m\u001b[0;34m\u001b[0m\u001b[0;34m\u001b[0m\u001b[0m\n\u001b[0m\u001b[1;32m      5\u001b[0m \u001b[0mq\u001b[0m\u001b[0;34m.\u001b[0m\u001b[0mlink\u001b[0m\u001b[0;34m(\u001b[0m\u001b[0mpdb\u001b[0m\u001b[0;34m)\u001b[0m\u001b[0;34m\u001b[0m\u001b[0;34m\u001b[0m\u001b[0m\n",
      "\u001b[0;32m/usr/local/anaconda3/envs/Dynamics/lib/python3.8/site-packages/prody/proteins/pdbfile.py\u001b[0m in \u001b[0;36mparsePDB\u001b[0;34m(*pdb, **kwargs)\u001b[0m\n\u001b[1;32m    105\u001b[0m \u001b[0;34m\u001b[0m\u001b[0m\n\u001b[1;32m    106\u001b[0m     \u001b[0;32mif\u001b[0m \u001b[0mn_pdb\u001b[0m \u001b[0;34m==\u001b[0m \u001b[0;36m1\u001b[0m\u001b[0;34m:\u001b[0m\u001b[0;34m\u001b[0m\u001b[0;34m\u001b[0m\u001b[0m\n\u001b[0;32m--> 107\u001b[0;31m         \u001b[0;32mreturn\u001b[0m \u001b[0m_parsePDB\u001b[0m\u001b[0;34m(\u001b[0m\u001b[0mpdb\u001b[0m\u001b[0;34m[\u001b[0m\u001b[0;36m0\u001b[0m\u001b[0;34m]\u001b[0m\u001b[0;34m,\u001b[0m \u001b[0;34m**\u001b[0m\u001b[0mkwargs\u001b[0m\u001b[0;34m)\u001b[0m\u001b[0;34m\u001b[0m\u001b[0;34m\u001b[0m\u001b[0m\n\u001b[0m\u001b[1;32m    108\u001b[0m     \u001b[0;32melse\u001b[0m\u001b[0;34m:\u001b[0m\u001b[0;34m\u001b[0m\u001b[0;34m\u001b[0m\u001b[0m\n\u001b[1;32m    109\u001b[0m         \u001b[0mresults\u001b[0m \u001b[0;34m=\u001b[0m \u001b[0;34m[\u001b[0m\u001b[0;34m]\u001b[0m\u001b[0;34m\u001b[0m\u001b[0;34m\u001b[0m\u001b[0m\n",
      "\u001b[0;32m/usr/local/anaconda3/envs/Dynamics/lib/python3.8/site-packages/prody/proteins/pdbfile.py\u001b[0m in \u001b[0;36m_parsePDB\u001b[0;34m(pdb, **kwargs)\u001b[0m\n\u001b[1;32m    178\u001b[0m     \u001b[0mchain\u001b[0m \u001b[0;34m=\u001b[0m \u001b[0;34m''\u001b[0m\u001b[0;34m\u001b[0m\u001b[0;34m\u001b[0m\u001b[0m\n\u001b[1;32m    179\u001b[0m     \u001b[0;32mif\u001b[0m \u001b[0;32mnot\u001b[0m \u001b[0mos\u001b[0m\u001b[0;34m.\u001b[0m\u001b[0mpath\u001b[0m\u001b[0;34m.\u001b[0m\u001b[0misfile\u001b[0m\u001b[0;34m(\u001b[0m\u001b[0mpdb\u001b[0m\u001b[0;34m)\u001b[0m\u001b[0;34m:\u001b[0m\u001b[0;34m\u001b[0m\u001b[0;34m\u001b[0m\u001b[0m\n\u001b[0;32m--> 180\u001b[0;31m         \u001b[0mpdb\u001b[0m\u001b[0;34m,\u001b[0m \u001b[0mchain\u001b[0m \u001b[0;34m=\u001b[0m \u001b[0m_getPDBid\u001b[0m\u001b[0;34m(\u001b[0m\u001b[0mpdb\u001b[0m\u001b[0;34m)\u001b[0m\u001b[0;34m\u001b[0m\u001b[0;34m\u001b[0m\u001b[0m\n\u001b[0m\u001b[1;32m    181\u001b[0m         \u001b[0;32mif\u001b[0m \u001b[0mtitle\u001b[0m \u001b[0;32mis\u001b[0m \u001b[0;32mNone\u001b[0m\u001b[0;34m:\u001b[0m\u001b[0;34m\u001b[0m\u001b[0;34m\u001b[0m\u001b[0m\n\u001b[1;32m    182\u001b[0m             \u001b[0mtitle\u001b[0m \u001b[0;34m=\u001b[0m \u001b[0mpdb\u001b[0m\u001b[0;34m\u001b[0m\u001b[0;34m\u001b[0m\u001b[0m\n",
      "\u001b[0;32m/usr/local/anaconda3/envs/Dynamics/lib/python3.8/site-packages/prody/proteins/pdbfile.py\u001b[0m in \u001b[0;36m_getPDBid\u001b[0;34m(pdb)\u001b[0m\n\u001b[1;32m    165\u001b[0m         \u001b[0mpdbid\u001b[0m \u001b[0;34m=\u001b[0m \u001b[0mpdb\u001b[0m\u001b[0;34m[\u001b[0m\u001b[0;34m:\u001b[0m\u001b[0mi\u001b[0m\u001b[0;34m]\u001b[0m\u001b[0;34m;\u001b[0m \u001b[0mchain\u001b[0m \u001b[0;34m=\u001b[0m \u001b[0mpdb\u001b[0m\u001b[0;34m[\u001b[0m\u001b[0mi\u001b[0m\u001b[0;34m+\u001b[0m\u001b[0;36m1\u001b[0m\u001b[0;34m:\u001b[0m\u001b[0;34m]\u001b[0m\u001b[0;34m\u001b[0m\u001b[0;34m\u001b[0m\u001b[0m\n\u001b[1;32m    166\u001b[0m     \u001b[0;32melse\u001b[0m\u001b[0;34m:\u001b[0m\u001b[0;34m\u001b[0m\u001b[0;34m\u001b[0m\u001b[0m\n\u001b[0;32m--> 167\u001b[0;31m         raise IOError('{0} is not a valid filename or a valid PDB '\n\u001b[0m\u001b[1;32m    168\u001b[0m                       'identifier.'.format(pdb))\n\u001b[1;32m    169\u001b[0m     \u001b[0;32mif\u001b[0m \u001b[0;32mnot\u001b[0m \u001b[0mpdbid\u001b[0m\u001b[0;34m.\u001b[0m\u001b[0misalnum\u001b[0m\u001b[0;34m(\u001b[0m\u001b[0;34m)\u001b[0m\u001b[0;34m:\u001b[0m\u001b[0;34m\u001b[0m\u001b[0;34m\u001b[0m\u001b[0m\n",
      "\u001b[0;31mOSError\u001b[0m: /Users/alsalas/GDrive/Jupyter/Dynamics/Trayectorias/common/ubq_wb.pdb is not a valid filename or a valid PDB identifier."
     ]
    }
   ],
   "source": [
    "## Prody method 1\n",
    "# DCD file from MDAnalysis is not recognized\n",
    "q = pd.Trajectory('/Users/alsalas/GDrive/Jupyter/Dynamics/Trayectorias/run/ubq_wb_eq.dcd')\n",
    "pdb = pd.parsePDB('/Users/alsalas/GDrive/Jupyter/Dynamics/Trayectorias/common/ubq_wb.pdb')\n",
    "q.link(pdb)"
   ]
  },
  {
   "cell_type": "code",
   "execution_count": 4,
   "metadata": {},
   "outputs": [
    {
     "ename": "FileNotFoundError",
     "evalue": "[Errno 2] No such file or directory: '/Users/alsalas/GDrive/Jupyter/Dynamics/Trayectorias/run/ubq_wb_eq.dcd'",
     "output_type": "error",
     "traceback": [
      "\u001b[0;31m---------------------------------------------------------------------------\u001b[0m",
      "\u001b[0;31mFileNotFoundError\u001b[0m                         Traceback (most recent call last)",
      "\u001b[0;32m<ipython-input-4-ee0613883e53>\u001b[0m in \u001b[0;36m<module>\u001b[0;34m\u001b[0m\n\u001b[1;32m      1\u001b[0m \u001b[0;31m## Prody method 2\u001b[0m\u001b[0;34m\u001b[0m\u001b[0;34m\u001b[0m\u001b[0;34m\u001b[0m\u001b[0m\n\u001b[0;32m----> 2\u001b[0;31m \u001b[0mensemble\u001b[0m \u001b[0;34m=\u001b[0m \u001b[0mpd\u001b[0m\u001b[0;34m.\u001b[0m\u001b[0mparseDCD\u001b[0m\u001b[0;34m(\u001b[0m\u001b[0;34m'/Users/alsalas/GDrive/Jupyter/Dynamics/Trayectorias/run/ubq_wb_eq.dcd'\u001b[0m\u001b[0;34m)\u001b[0m\u001b[0;34m\u001b[0m\u001b[0;34m\u001b[0m\u001b[0m\n\u001b[0m\u001b[1;32m      3\u001b[0m \u001b[0mstructure\u001b[0m \u001b[0;34m=\u001b[0m \u001b[0mpd\u001b[0m\u001b[0;34m.\u001b[0m\u001b[0mparsePDB\u001b[0m\u001b[0;34m(\u001b[0m\u001b[0;34m'/Users/alsalas/GDrive/Jupyter/Dynamics/Trayectorias/common/ubq_wb.pdb'\u001b[0m\u001b[0;34m)\u001b[0m\u001b[0;34m\u001b[0m\u001b[0;34m\u001b[0m\u001b[0m\n\u001b[1;32m      4\u001b[0m \u001b[0mensemble\u001b[0m\u001b[0;34m.\u001b[0m\u001b[0msetAtoms\u001b[0m\u001b[0;34m(\u001b[0m\u001b[0mstructure\u001b[0m\u001b[0;34m)\u001b[0m\u001b[0;34m\u001b[0m\u001b[0;34m\u001b[0m\u001b[0m\n\u001b[1;32m      5\u001b[0m \u001b[0mensemble\u001b[0m\u001b[0;34m.\u001b[0m\u001b[0msetCoords\u001b[0m\u001b[0;34m(\u001b[0m\u001b[0mstructure\u001b[0m\u001b[0;34m)\u001b[0m\u001b[0;34m\u001b[0m\u001b[0;34m\u001b[0m\u001b[0m\n",
      "\u001b[0;32m/usr/local/anaconda3/envs/Dynamics/lib/python3.8/site-packages/prody/trajectory/dcdfile.py\u001b[0m in \u001b[0;36mparseDCD\u001b[0;34m(filename, start, stop, step, astype)\u001b[0m\n\u001b[1;32m    492\u001b[0m     :type astype: type\"\"\"\n\u001b[1;32m    493\u001b[0m \u001b[0;34m\u001b[0m\u001b[0m\n\u001b[0;32m--> 494\u001b[0;31m     \u001b[0mdcd\u001b[0m \u001b[0;34m=\u001b[0m \u001b[0mDCDFile\u001b[0m\u001b[0;34m(\u001b[0m\u001b[0mfilename\u001b[0m\u001b[0;34m,\u001b[0m \u001b[0mastype\u001b[0m\u001b[0;34m=\u001b[0m\u001b[0mastype\u001b[0m\u001b[0;34m)\u001b[0m\u001b[0;34m\u001b[0m\u001b[0;34m\u001b[0m\u001b[0m\n\u001b[0m\u001b[1;32m    495\u001b[0m     \u001b[0mtime_\u001b[0m \u001b[0;34m=\u001b[0m \u001b[0mtime\u001b[0m\u001b[0;34m(\u001b[0m\u001b[0;34m)\u001b[0m\u001b[0;34m\u001b[0m\u001b[0;34m\u001b[0m\u001b[0m\n\u001b[1;32m    496\u001b[0m     \u001b[0mn_frames\u001b[0m \u001b[0;34m=\u001b[0m \u001b[0mdcd\u001b[0m\u001b[0;34m.\u001b[0m\u001b[0mnumFrames\u001b[0m\u001b[0;34m(\u001b[0m\u001b[0;34m)\u001b[0m\u001b[0;34m\u001b[0m\u001b[0;34m\u001b[0m\u001b[0m\n",
      "\u001b[0;32m/usr/local/anaconda3/envs/Dynamics/lib/python3.8/site-packages/prody/trajectory/dcdfile.py\u001b[0m in \u001b[0;36m__init__\u001b[0;34m(self, filename, mode, **kwargs)\u001b[0m\n\u001b[1;32m     47\u001b[0m     \u001b[0;32mdef\u001b[0m \u001b[0m__init__\u001b[0m\u001b[0;34m(\u001b[0m\u001b[0mself\u001b[0m\u001b[0;34m,\u001b[0m \u001b[0mfilename\u001b[0m\u001b[0;34m,\u001b[0m \u001b[0mmode\u001b[0m\u001b[0;34m=\u001b[0m\u001b[0;34m'rb'\u001b[0m\u001b[0;34m,\u001b[0m \u001b[0;34m**\u001b[0m\u001b[0mkwargs\u001b[0m\u001b[0;34m)\u001b[0m\u001b[0;34m:\u001b[0m\u001b[0;34m\u001b[0m\u001b[0;34m\u001b[0m\u001b[0m\n\u001b[1;32m     48\u001b[0m \u001b[0;34m\u001b[0m\u001b[0m\n\u001b[0;32m---> 49\u001b[0;31m         \u001b[0mTrajFile\u001b[0m\u001b[0;34m.\u001b[0m\u001b[0m__init__\u001b[0m\u001b[0;34m(\u001b[0m\u001b[0mself\u001b[0m\u001b[0;34m,\u001b[0m \u001b[0mfilename\u001b[0m\u001b[0;34m,\u001b[0m \u001b[0mmode\u001b[0m\u001b[0;34m)\u001b[0m\u001b[0;34m\u001b[0m\u001b[0;34m\u001b[0m\u001b[0m\n\u001b[0m\u001b[1;32m     50\u001b[0m         \u001b[0mself\u001b[0m\u001b[0;34m.\u001b[0m\u001b[0m_astype\u001b[0m \u001b[0;34m=\u001b[0m \u001b[0mkwargs\u001b[0m\u001b[0;34m.\u001b[0m\u001b[0mget\u001b[0m\u001b[0;34m(\u001b[0m\u001b[0;34m'astype'\u001b[0m\u001b[0;34m,\u001b[0m \u001b[0;32mNone\u001b[0m\u001b[0;34m)\u001b[0m\u001b[0;34m\u001b[0m\u001b[0;34m\u001b[0m\u001b[0m\n\u001b[1;32m     51\u001b[0m         \u001b[0;32mif\u001b[0m \u001b[0;32mnot\u001b[0m \u001b[0mself\u001b[0m\u001b[0;34m.\u001b[0m\u001b[0m_mode\u001b[0m\u001b[0;34m.\u001b[0m\u001b[0mstartswith\u001b[0m\u001b[0;34m(\u001b[0m\u001b[0;34m'w'\u001b[0m\u001b[0;34m)\u001b[0m\u001b[0;34m:\u001b[0m\u001b[0;34m\u001b[0m\u001b[0;34m\u001b[0m\u001b[0m\n",
      "\u001b[0;32m/usr/local/anaconda3/envs/Dynamics/lib/python3.8/site-packages/prody/trajectory/trajfile.py\u001b[0m in \u001b[0;36m__init__\u001b[0;34m(self, filename, mode)\u001b[0m\n\u001b[1;32m     48\u001b[0m             \u001b[0;32mif\u001b[0m \u001b[0;32mnot\u001b[0m \u001b[0mmode\u001b[0m\u001b[0;34m.\u001b[0m\u001b[0mendswith\u001b[0m\u001b[0;34m(\u001b[0m\u001b[0;34m'b'\u001b[0m\u001b[0;34m)\u001b[0m\u001b[0;34m:\u001b[0m\u001b[0;34m\u001b[0m\u001b[0;34m\u001b[0m\u001b[0m\n\u001b[1;32m     49\u001b[0m                 \u001b[0mmode\u001b[0m \u001b[0;34m+=\u001b[0m \u001b[0;34m'b'\u001b[0m\u001b[0;34m\u001b[0m\u001b[0;34m\u001b[0m\u001b[0m\n\u001b[0;32m---> 50\u001b[0;31m             \u001b[0mself\u001b[0m\u001b[0;34m.\u001b[0m\u001b[0m_file\u001b[0m \u001b[0;34m=\u001b[0m \u001b[0mopen\u001b[0m\u001b[0;34m(\u001b[0m\u001b[0mfilename\u001b[0m\u001b[0;34m,\u001b[0m \u001b[0mmode\u001b[0m\u001b[0;34m)\u001b[0m\u001b[0;34m\u001b[0m\u001b[0;34m\u001b[0m\u001b[0m\n\u001b[0m\u001b[1;32m     51\u001b[0m \u001b[0;34m\u001b[0m\u001b[0m\n\u001b[1;32m     52\u001b[0m         \u001b[0mself\u001b[0m\u001b[0;34m.\u001b[0m\u001b[0m_mode\u001b[0m \u001b[0;34m=\u001b[0m \u001b[0mmode\u001b[0m\u001b[0;34m\u001b[0m\u001b[0;34m\u001b[0m\u001b[0m\n",
      "\u001b[0;31mFileNotFoundError\u001b[0m: [Errno 2] No such file or directory: '/Users/alsalas/GDrive/Jupyter/Dynamics/Trayectorias/run/ubq_wb_eq.dcd'"
     ]
    }
   ],
   "source": [
    "## Prody method 2\n",
    "ensemble = pd.parseDCD('/Users/alsalas/GDrive/Jupyter/Dynamics/Trayectorias/run/ubq_wb_eq.dcd')\n",
    "structure = pd.parsePDB('/Users/alsalas/GDrive/Jupyter/Dynamics/Trayectorias/common/ubq_wb.pdb')\n",
    "ensemble.setAtoms(structure)\n",
    "ensemble.setCoords(structure)"
   ]
  },
  {
   "cell_type": "code",
   "execution_count": 3,
   "metadata": {},
   "outputs": [
    {
     "name": "stdout",
     "output_type": "stream",
     "text": [
      ">>>MDAnalysis: Universe\n",
      "<Universe with 3341 atoms>\n",
      ">>>MDTraj: Trajectory\n",
      "<mdtraj.Trajectory with 98 frames, 3341 atoms, 214 residues, without unitcells>\n",
      ">>>MDAnalysis: Topology\n",
      "pytraj.Trajectory, 98 frames: \n",
      "Size: 0.007318 (GB)\n",
      "<Topology: 3341 atoms, 214 residues, 1 mols, non-PBC>\n",
      "           \n",
      ">>>Prody: Ensemble\n"
     ]
    },
    {
     "ename": "NameError",
     "evalue": "name 'ensemble' is not defined",
     "output_type": "error",
     "traceback": [
      "\u001b[0;31m---------------------------------------------------------------------------\u001b[0m",
      "\u001b[0;31mNameError\u001b[0m                                 Traceback (most recent call last)",
      "\u001b[0;32m<ipython-input-3-c6cfee44773a>\u001b[0m in \u001b[0;36m<module>\u001b[0;34m\u001b[0m\n\u001b[1;32m      6\u001b[0m \u001b[0mprint\u001b[0m\u001b[0;34m(\u001b[0m\u001b[0mp\u001b[0m\u001b[0;34m)\u001b[0m\u001b[0;34m\u001b[0m\u001b[0;34m\u001b[0m\u001b[0m\n\u001b[1;32m      7\u001b[0m \u001b[0mprint\u001b[0m\u001b[0;34m(\u001b[0m\u001b[0;34m\">>>Prody: Ensemble\"\u001b[0m\u001b[0;34m)\u001b[0m\u001b[0;34m\u001b[0m\u001b[0;34m\u001b[0m\u001b[0m\n\u001b[0;32m----> 8\u001b[0;31m \u001b[0mprint\u001b[0m\u001b[0;34m(\u001b[0m\u001b[0mensemble\u001b[0m\u001b[0;34m)\u001b[0m\u001b[0;34m\u001b[0m\u001b[0;34m\u001b[0m\u001b[0m\n\u001b[0m",
      "\u001b[0;31mNameError\u001b[0m: name 'ensemble' is not defined"
     ]
    }
   ],
   "source": [
    "print(\">>>MDAnalysis: Universe\")\n",
    "print(u)\n",
    "print(\">>>MDTraj: Trajectory\")\n",
    "print(t)\n",
    "print(\">>>MDAnalysis: Topology\")\n",
    "print(p)\n",
    "print(\">>>Prody: Ensemble\")\n",
    "print(ensemble)"
   ]
  },
  {
   "cell_type": "markdown",
   "metadata": {},
   "source": [
    "## Vissualization Trajectory with NGLView"
   ]
  },
  {
   "cell_type": "code",
   "execution_count": 1,
   "metadata": {},
   "outputs": [
    {
     "data": {
      "application/vnd.jupyter.widget-view+json": {
       "model_id": "6f1ef9c786bf4605acbdc482b45ba97f",
       "version_major": 2,
       "version_minor": 0
      },
      "text/plain": []
     },
     "metadata": {},
     "output_type": "display_data"
    },
    {
     "ename": "NameError",
     "evalue": "name 'p' is not defined",
     "output_type": "error",
     "traceback": [
      "\u001b[0;31m---------------------------------------------------------------------------\u001b[0m",
      "\u001b[0;31mNameError\u001b[0m                                 Traceback (most recent call last)",
      "\u001b[0;32m<ipython-input-1-8e3cf9e389ca>\u001b[0m in \u001b[0;36m<module>\u001b[0;34m\u001b[0m\n\u001b[1;32m      1\u001b[0m \u001b[0;32mimport\u001b[0m \u001b[0mnglview\u001b[0m \u001b[0;32mas\u001b[0m \u001b[0mnv\u001b[0m\u001b[0;34m\u001b[0m\u001b[0;34m\u001b[0m\u001b[0m\n\u001b[0;32m----> 2\u001b[0;31m \u001b[0mview\u001b[0m \u001b[0;34m=\u001b[0m \u001b[0mnv\u001b[0m\u001b[0;34m.\u001b[0m\u001b[0mshow_pytraj\u001b[0m\u001b[0;34m(\u001b[0m\u001b[0mp\u001b[0m\u001b[0;34m)\u001b[0m\u001b[0;34m\u001b[0m\u001b[0;34m\u001b[0m\u001b[0m\n\u001b[0m\u001b[1;32m      3\u001b[0m \u001b[0;34m\u001b[0m\u001b[0m\n\u001b[1;32m      4\u001b[0m \u001b[0;31m# reset representation\u001b[0m\u001b[0;34m\u001b[0m\u001b[0;34m\u001b[0m\u001b[0;34m\u001b[0m\u001b[0m\n\u001b[1;32m      5\u001b[0m \u001b[0mview\u001b[0m\u001b[0;34m.\u001b[0m\u001b[0mrepresentations\u001b[0m \u001b[0;34m=\u001b[0m \u001b[0;34m[\u001b[0m\u001b[0;34m]\u001b[0m\u001b[0;34m\u001b[0m\u001b[0;34m\u001b[0m\u001b[0m\n",
      "\u001b[0;31mNameError\u001b[0m: name 'p' is not defined"
     ]
    }
   ],
   "source": [
    "import nglview as nv\n",
    "view = nv.show_pytraj(p)\n",
    "\n",
    "# reset representation\n",
    "view.representations = []\n",
    "view.parameters = {'theme': 'dark'}\n",
    "view.add_representation('licorice', selection='not hydrogen')\n",
    "view.add_representation('cartoon')\n",
    "\n",
    "view"
   ]
  },
  {
   "cell_type": "code",
   "execution_count": 15,
   "metadata": {},
   "outputs": [],
   "source": [
    "%matplotlib inline"
   ]
  },
  {
   "cell_type": "markdown",
   "metadata": {},
   "source": [
    "## Subset from topology"
   ]
  },
  {
   "cell_type": "code",
   "execution_count": 16,
   "metadata": {},
   "outputs": [
    {
     "name": "stdout",
     "output_type": "stream",
     "text": [
      ">>Objetos Aminoácidos\n",
      "[<Atom 1: N of type 56 of resname MET, resid 1 and segid 4AKE>,\n",
      " <Atom 2: HT1 of type 2 of resname MET, resid 1 and segid 4AKE>,\n",
      " <Atom 3: HT2 of type 2 of resname MET, resid 1 and segid 4AKE>]\n",
      ">>Objetos Residuos\n",
      "[<Residue MET, 1>,\n",
      " <Residue ARG, 2>,\n",
      " <Residue ILE, 3>,\n",
      " <Residue ILE, 4>,\n",
      " <Residue LEU, 5>]\n",
      ">>Objetos Segmentos\n",
      "[<Segment 4AKE>]\n",
      ">>Lista de Residuos\n",
      "[('MET', 1), ('ARG', 2), ('ILE', 3), ('ILE', 4), ('LEU', 5)]\n"
     ]
    }
   ],
   "source": [
    "## MDAnalysis subset for topology\n",
    "atomos   = list(u.atoms[:3])\n",
    "residuos = list(u.atoms[0:100].residues)\n",
    "segids   = list(u.atoms.segments)\n",
    "\n",
    "resnames = u.atoms[0:100].residues.resnames\n",
    "resids   = u.atoms[0:100].residues.resids\n",
    "res_list = list(zip(resnames, resids))\n",
    "\n",
    "import pprint\n",
    "print(\">>Objetos Aminoácidos\")\n",
    "pprint.pprint(atomos)\n",
    "print(\">>Objetos Residuos\")\n",
    "pprint.pprint(residuos)\n",
    "print(\">>Objetos Segmentos\")\n",
    "pprint.pprint(segids)\n",
    "\n",
    "print(\">>Lista de Residuos\")\n",
    "pprint.pprint(res_list)"
   ]
  },
  {
   "cell_type": "code",
   "execution_count": 17,
   "metadata": {},
   "outputs": [
    {
     "name": "stdout",
     "output_type": "stream",
     "text": [
      "<mdtraj.Topology with 1 chains, 214 residues, 3341 atoms, 3365 bonds>\n",
      "Fifth atom: MET1-CA\n",
      "All atoms: [MET1-N, MET1-H, MET1-H2]\n",
      "Second residue: ARG2\n",
      "All residues: [MET1, ARG2, ILE3]\n",
      "Hi! I am the 10th atom, and my name is HG3. \n",
      "I am a hydrogen atom with 1 bonds. \n",
      "I am part of an MET residue.\n"
     ]
    }
   ],
   "source": [
    "## MDTraj subset for topology\n",
    "topology  = t.topology\n",
    "print(topology)\n",
    "print('Fifth atom: %s' % topology.atom(4))\n",
    "print('All atoms: %s' % [atom for atom in topology.atoms][:3])\n",
    "\n",
    "print('Second residue: %s' % t.topology.residue(1))\n",
    "print('All residues: %s' % [residue for residue in t.topology.residues][:3])\n",
    "\n",
    "atom = topology.atom(10)\n",
    "print('''Hi! I am the %sth atom, and my name is %s. \n",
    "I am a %s atom with %s bonds. \n",
    "I am part of an %s residue.''' % ( atom.index, atom.name, atom.element.name, atom.n_bonds, atom.residue.name))"
   ]
  },
  {
   "cell_type": "code",
   "execution_count": 18,
   "metadata": {},
   "outputs": [
    {
     "name": "stdout",
     "output_type": "stream",
     "text": [
      "[   4   21   45 ... 3297 3316 3335]\n",
      "[   0   19   43 ... 3295 3314 3333]\n"
     ]
    }
   ],
   "source": [
    "## PyTraj subset for topology\n",
    "h_indices = mdp.select_atoms(p.top, '@CA')\n",
    "n_indices = mdp.select_atoms(p.top, '@N')\n",
    "print(h_indices)\n",
    "print(n_indices)"
   ]
  },
  {
   "cell_type": "markdown",
   "metadata": {},
   "source": [
    "## Subset from trajectory"
   ]
  },
  {
   "cell_type": "code",
   "execution_count": 19,
   "metadata": {},
   "outputs": [
    {
     "name": "stdout",
     "output_type": "stream",
     "text": [
      "[< Timestep 0 with unit cell dimensions [ 0.  0.  0. 90. 90. 90.] >, < Timestep 1 with unit cell dimensions [ 0.  0.  0. 90. 90. 90.] >, < Timestep 0 with unit cell dimensions [ 0.  0.  0. 90. 90. 90.] >]\n",
      "['aux', 'copy', 'copy_slice', 'data', 'dimensions', 'dt', 'forces', 'frame', 'from_coordinates', 'from_timestep', 'has_forces', 'has_positions', 'has_velocities', 'n_atoms', 'order', 'positions', 'time', 'triclinic_dimensions', 'velocities', 'volume']\n",
      "Frame:     0, Time:    1.000 ps\n",
      "Rgyr: 16.669 A\n",
      "Frame:    20, Time:   21.000 ps\n",
      "Rgyr: 17.1491 A\n",
      "Frame:    40, Time:   41.000 ps\n",
      "Rgyr: 17.9416 A\n",
      "Frame:    60, Time:   61.000 ps\n",
      "Rgyr: 18.8433 A\n",
      "Frame:    80, Time:   81.000 ps\n",
      "Rgyr: 19.4571 A\n"
     ]
    }
   ],
   "source": [
    "## MDAnalysis\n",
    "# Subset for trajectory is a generator\n",
    "print (list(u.trajectory[:3]))\n",
    "\n",
    "for uts in u.trajectory[::20]:\n",
    "    print([x for x in dir(uts) if x.startswith(\"_\")==False])\n",
    "    break\n",
    "\n",
    "for uts in u.trajectory[::20]:    \n",
    "    print(\"Frame: {0:5d}, Time: {1:8.3f} ps\".format(uts.frame, u.trajectory.time))\n",
    "    print(\"Rgyr: {0:g} A\".format(u.atoms.radius_of_gyration()))"
   ]
  },
  {
   "cell_type": "code",
   "execution_count": 20,
   "metadata": {},
   "outputs": [
    {
     "name": "stdout",
     "output_type": "stream",
     "text": [
      "<mdtraj.Trajectory with 3 frames, 3341 atoms, 214 residues, without unitcells>\n",
      "<mdtraj.Trajectory with 1 frames, 3341 atoms, 214 residues, without unitcells>\n",
      "(98, 3341, 3)\n",
      "[0 1 2 3 4 5 6 7 8 9]\n",
      "98\n",
      "<mdtraj.Trajectory with 1 frames, 3341 atoms, 214 residues, without unitcells>\n",
      "<mdtraj.Trajectory with 1 frames, 3341 atoms, 214 residues, without unitcells>\n",
      "<mdtraj.Trajectory with 1 frames, 3341 atoms, 214 residues, without unitcells>\n",
      "<mdtraj.Trajectory with 1 frames, 3341 atoms, 214 residues, without unitcells>\n",
      "<mdtraj.Trajectory with 1 frames, 3341 atoms, 214 residues, without unitcells>\n"
     ]
    }
   ],
   "source": [
    "## MDTraj\n",
    "# Subset for trajectory\n",
    "print (t[:3])\n",
    "#print (u[:3]) #In MDAnalysis not work\n",
    "print (t[-1])\n",
    "print (t.xyz.shape)\n",
    "print (t.time[0:10])\n",
    "print (t.n_frames)\n",
    "\n",
    "for tts in t[::20]:    \n",
    "    print(tts)\n",
    "    #print(\"Rgyr: {0:g} A\".format(u.atoms.radius_of_gyration()))"
   ]
  },
  {
   "cell_type": "markdown",
   "metadata": {},
   "source": [
    "## Trajectories saving"
   ]
  },
  {
   "cell_type": "code",
   "execution_count": 49,
   "metadata": {
    "collapsed": true,
    "jupyter": {
     "outputs_hidden": true
    }
   },
   "outputs": [
    {
     "name": "stderr",
     "output_type": "stream",
     "text": [
      "/Users/alsalas/anaconda3/lib/python3.6/site-packages/MDAnalysis/lib/mdamath.py:69: RuntimeWarning: invalid value encountered in sqrt\n",
      "  return np.sqrt(np.dot(v, v))\n",
      "/Users/alsalas/anaconda3/lib/python3.6/site-packages/MDAnalysis/lib/mdamath.py:228: RuntimeWarning: invalid value encountered in float_scalars\n",
      "  B[2][1] = z * (np.cos(a) - np.cos(b) * np.cos(c)) / np.sin(c)\n",
      "/Users/alsalas/anaconda3/lib/python3.6/site-packages/MDAnalysis/lib/mdamath.py:152: RuntimeWarning: invalid value encountered in arccos\n",
      "  angle = np.arccos(np.dot(a, b) / (norm(a) * norm(b)))\n",
      "/Users/alsalas/anaconda3/lib/python3.6/site-packages/MDAnalysis/lib/mdamath.py:229: RuntimeWarning: invalid value encountered in sqrt\n",
      "  B[2][2] = np.sqrt(z * z - B[2][0] ** 2 - B[2][1] ** 2)\n",
      "/Users/alsalas/anaconda3/lib/python3.6/site-packages/MDAnalysis/lib/mdamath.py:152: RuntimeWarning: invalid value encountered in float_scalars\n",
      "  angle = np.arccos(np.dot(a, b) / (norm(a) * norm(b)))\n",
      "/Users/alsalas/anaconda3/lib/python3.6/site-packages/MDAnalysis/lib/mdamath.py:152: RuntimeWarning: divide by zero encountered in float_scalars\n",
      "  angle = np.arccos(np.dot(a, b) / (norm(a) * norm(b)))\n"
     ]
    }
   ],
   "source": [
    "## MDAnalysis\n",
    "import MDAnalysis\n",
    "from MDAnalysis.tests.datafiles import PDB, XTC\n",
    "u2 = MDAnalysis.Universe(PDB, XTC)\n",
    "protein = u2.select_atoms(\"protein\")\n",
    "with MDAnalysis.Writer(\"protein.xtc\", protein.n_atoms) as W:\n",
    "    for ts in u2.trajectory:\n",
    "        W.write(protein)"
   ]
  },
  {
   "cell_type": "code",
   "execution_count": 23,
   "metadata": {},
   "outputs": [],
   "source": [
    "## MDTraj\n",
    "# the hdf5 format stores the topology inside the file for convenience\n",
    "t[::2].save('halftraj.h5')\n",
    "\n",
    "# the format will be parsed based on the extension, or you can call the\n",
    "# format-specific save methods\n",
    "t[0:10].save_dcd('first-ten-frames.dcd')\n",
    "\n",
    "# Trajectory with specific subset of atoms\n",
    "atoms_to_keep = [a.index for a in t.topology.atoms if a.name == 'CA']\n",
    "t.restrict_atoms(atoms_to_keep)  # this acts inplace on the trajectory\n",
    "t.save('CA-only.h5')"
   ]
  },
  {
   "cell_type": "markdown",
   "metadata": {},
   "source": [
    "## Selecciones"
   ]
  },
  {
   "cell_type": "code",
   "execution_count": 54,
   "metadata": {},
   "outputs": [
    {
     "name": "stdout",
     "output_type": "stream",
     "text": [
      "How many atoms?    3341\n",
      "How many residues? 214\n",
      "<AtomGroup with 3341 atoms>\n",
      "[<Residue GLU, 22>, <Residue ASP, 33>, <Residue GLU, 44>]\n",
      "[<Residue GLN, 18>,\n",
      " <Residue PHE, 19>,\n",
      " <Residue ILE, 20>,\n",
      " <Residue MET, 21>,\n",
      " <Residue LYS, 23>,\n",
      " <Residue TYR, 24>,\n",
      " <Residue GLY, 25>,\n",
      " <Residue ARG, 206>]\n"
     ]
    }
   ],
   "source": [
    "## MDAnalysis\n",
    "print('How many atoms?    %s' % len(u.atoms))\n",
    "print('How many residues? %s' % len(u.residues))\n",
    "\n",
    "## MDAnalysis\n",
    "CA = u.select_atoms(\"protein\")\n",
    "pprint.pprint(CA)\n",
    "acidic = CA.select_atoms(\"resname ASP or resname GLU\")\n",
    "pprint.pprint(list(acidic.residues)[:3])\n",
    "residues = u.select_atoms(\"around 4.0 resid 22\").residues\n",
    "pprint.pprint(list(residues))"
   ]
  },
  {
   "cell_type": "code",
   "execution_count": 55,
   "metadata": {},
   "outputs": [
    {
     "name": "stdout",
     "output_type": "stream",
     "text": [
      "How many atoms?    3341\n",
      "How many residues? 214\n",
      "Where is the fifth atom at the tenth frame?\n",
      "x: 1.062337\ty: 1.0965732\tz: -0.7430963\n",
      "[19 20 21 ... 59 60 61]\n",
      "[ 0 19 43]\n",
      "[atom.index for atom in topology.atoms if ((atom.name == 'CA') and (1 <= atom.residue.index <= 2))]\n"
     ]
    }
   ],
   "source": [
    "## MDTraj\n",
    "print('How many atoms?    %s' % t.n_atoms)\n",
    "print('How many residues? %s' % t.n_residues)\n",
    "\n",
    "frame_idx = 4 # zero indexed frame number\n",
    "atom_idx = 9 # zero indexed atom index\n",
    "print('Where is the fifth atom at the tenth frame?')\n",
    "print('x: %s\\ty: %s\\tz: %s' % tuple(t.xyz[frame_idx, atom_idx,:]))\n",
    "\n",
    "## MDTraj\n",
    "print(topology.select('resid 1 to 2'))\n",
    "print(topology.select('name N and backbone')[:3])\n",
    "\n",
    "selection = topology.select_expression('name CA and resid 1 to 2')\n",
    "print(selection)"
   ]
  },
  {
   "cell_type": "code",
   "execution_count": 56,
   "metadata": {},
   "outputs": [
    {
     "name": "stdout",
     "output_type": "stream",
     "text": [
      "['MET', 'ARG', 'ILE', 'ILE', 'LEU']\n",
      "pytraj.Trajectory, 10 frames: \n",
      "Size: 0.000116 (GB)\n",
      "<Topology: 520 atoms, 113 residues, 101 mols, PBC with box type = ortho>\n",
      "           \n"
     ]
    }
   ],
   "source": [
    "## PyTraj\n",
    "#supposed we want to keep 100 closest solvents around protein\n",
    "p2 = mdp.load_sample_data('tz2')\n",
    "\n",
    "print([res.name for res in p.top.residues \n",
    "       if not res.is_solvent()][:5])\n",
    "\n",
    "new_traj = mdp.closest(p2, mask=':1-13', n_solvents=100, dtype='trajectory')\n",
    "print(new_traj)"
   ]
  }
 ],
 "metadata": {
  "kernelspec": {
   "display_name": "Python 3",
   "language": "python",
   "name": "python3"
  },
  "language_info": {
   "codemirror_mode": {
    "name": "ipython",
    "version": 3
   },
   "file_extension": ".py",
   "mimetype": "text/x-python",
   "name": "python",
   "nbconvert_exporter": "python",
   "pygments_lexer": "ipython3",
   "version": "3.8.3"
  }
 },
 "nbformat": 4,
 "nbformat_minor": 4
}
