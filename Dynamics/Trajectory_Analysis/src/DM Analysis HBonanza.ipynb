{
 "cells": [
  {
   "cell_type": "markdown",
   "metadata": {},
   "source": [
    "#HBonanza"
   ]
  },
  {
   "cell_type": "markdown",
   "metadata": {},
   "source": [
    "http://nbcr.ucsd.edu/data/sw/hosted/hbonanza/\n",
    "We here present a new computer program called HBonanza (hydrogen-bond analyzer) that aids the analysis and visualization of hydrogen-bond networks. HBonanza, which can be used to analyze single structures or the many structures of a molecular dynamics simulation, is open source and python implemented, making it easily editable, customizable, and platform independent. Additionally, the algorithm is fast and easy to use. Unlike many other freely available hydrogen-bond analysis tools, HBonanza provides not only a text-based table describing the hydrogen-bond network, but also a Tcl script file to facilitate visualization in VMD, a popular molecular visualization program. Visualization in other programs is also possible."
   ]
  },
  {
   "cell_type": "markdown",
   "metadata": {},
   "source": [
    "Trajectory format: Amber"
   ]
  },
  {
   "cell_type": "code",
   "execution_count": null,
   "metadata": {
    "collapsed": true
   },
   "outputs": [],
   "source": [
    "python HBonanza.py \n",
    "-trajectory_filename traj.pdb\n",
    "-hydrogen_bond_distance_cutoff 3.0 \n",
    "-hydrogen_bond_angle_cutoff 30 \n",
    "-hydrogen_bond_frequency_cutoff 0.5 \n",
    "-single_frame_filename first_frame.pdb \n",
    "-output_basename output. \n",
    "-write_column O \n",
    "-low_frequency_color_r 255 \n",
    "-low_frequency_color_g 255 \n",
    "-low_frequency_color_b 255 \n",
    "-high_frequency_color_r 0 \n",
    "-high_frequency_color_g 255 \n",
    "-high_frequency_color_b 0 > visualize.tcl\n",
    "\n",
    "/path/to/VMD/executable/VMD -e visualize.tcl\n"
   ]
  },
  {
   "cell_type": "code",
   "execution_count": 1,
   "metadata": {
    "collapsed": true
   },
   "outputs": [],
   "source": [
    "hbonanza = \"/Users/alsalas/BioSoftware/MDynamics/HBonanza_1.01.py\""
   ]
  },
  {
   "cell_type": "code",
   "execution_count": 2,
   "metadata": {
    "collapsed": true
   },
   "outputs": [],
   "source": [
    "def run_shell_program(cmd):\n",
    "    \"\"\"Esto asegura que el programa se ejecute en un entorno bash\n",
    "    para evitar errores como /bin/sh: Syntax error: Bad fd number\"\"\"\n",
    "    import sys\n",
    "    import subprocess\n",
    "    try:\n",
    "        retcode = subprocess.call(cmd, shell=True, executable=\"/bin/bash\")\n",
    "        if retcode != 0:\n",
    "            print >> sys.stderr, \"Error executing command: %s\" % cmd,\\\n",
    "            \"(return code: %s)\" % retcode\n",
    "    except OSError, e:\n",
    "        print >>sys.stderr, \"Execution failed: %s\" % cmd, e\n",
    "        \n",
    "def create_dir(nombre=\"SecAccess\"):\n",
    "    from time import strftime\n",
    "    fecha = strftime(\"%Y%j_%H%M%S\")\n",
    "    directorio_pdbs = nombre + \"_\" + fecha\n",
    "    os.mkdir(directorio_pdbs)\n",
    "    return directorio_pdbs"
   ]
  }
 ],
 "metadata": {
  "kernelspec": {
   "display_name": "Python 2",
   "language": "python",
   "name": "python2"
  },
  "language_info": {
   "codemirror_mode": {
    "name": "ipython",
    "version": 3
   },
   "file_extension": ".py",
   "mimetype": "text/x-python",
   "name": "python",
   "nbconvert_exporter": "python",
   "pygments_lexer": "ipython3",
   "version": "3.6.5"
  }
 },
 "nbformat": 4,
 "nbformat_minor": 1
}
