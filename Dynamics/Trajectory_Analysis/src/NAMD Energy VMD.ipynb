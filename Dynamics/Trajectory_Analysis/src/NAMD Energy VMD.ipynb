{
 "cells": [
  {
   "cell_type": "code",
   "execution_count": null,
   "metadata": {
    "collapsed": true
   },
   "outputs": [],
   "source": [
    "#Desde vmd -f sistema.psf sistema.dm01.dcd\n",
    "#Crear namd-temp \n",
    "#Crear namd-temp.dcd\n"
   ]
  },
  {
   "cell_type": "code",
   "execution_count": null,
   "metadata": {
    "collapsed": true
   },
   "outputs": [],
   "source": [
    "################################################################################\n",
    "# NAMD configuration file generated automatically by NAMDenergy\n",
    "# It may be ugly, but it should work.\n",
    "# I wouldn't recommend using it for anything else though.\n",
    "################################################################################\n",
    "\n",
    "structure\t\tscfv_mica_wb_ions.psf\n",
    "paraTypeCharmm\t\ton\n",
    "parameters\t\t/Users/alsalas/Google Drive/scFv_MICA/scFv_MICA_NAMD/par_all36_prot.prm\n",
    "parameters\t\t/Users/alsalas/Google Drive/scFv_MICA/scFv_MICA_NAMD/par_waterions36.prm\n",
    "numsteps\t\t 1\n",
    "exclude\t\t\t scaled1-4\n",
    "outputname\t\t namd-temp\n",
    "temperature\t\t 0\n",
    "COMmotion \t\t yes\n",
    "cutoff\t\t\t 12\n",
    "dielectric\t\t 1.0\n",
    "extendedSystem\t\t\t /Users/alsalas/Google Drive/scFv_MICA/scFv_MICA_NAMD/scfv_mica_wb_ions.dm-01.xsc\n",
    "switchdist\t\t 10\n",
    "pairInteraction\t\t on\n",
    "pairInteractionGroup1 1\n",
    "pairInteractionFile   namd-temp.pdb\n",
    "pairInteractionSelf\t\t on\n",
    "coordinates namd-temp.pdb\n",
    "set ts 0\n",
    "coorfile open dcd namd-temp.dcd\n",
    "while { ![coorfile read] } {\n",
    "   firstTimestep $ts\n",
    "   run 0\n",
    "   incr ts 1\n",
    "}\n",
    "coorfile close\n"
   ]
  },
  {
   "cell_type": "code",
   "execution_count": null,
   "metadata": {
    "collapsed": true
   },
   "outputs": [],
   "source": []
  }
 ],
 "metadata": {
  "kernelspec": {
   "display_name": "Python 3",
   "language": "python",
   "name": "python3"
  },
  "language_info": {
   "codemirror_mode": {
    "name": "ipython",
    "version": 3
   },
   "file_extension": ".py",
   "mimetype": "text/x-python",
   "name": "python",
   "nbconvert_exporter": "python",
   "pygments_lexer": "ipython3",
   "version": "3.6.6"
  }
 },
 "nbformat": 4,
 "nbformat_minor": 1
}
