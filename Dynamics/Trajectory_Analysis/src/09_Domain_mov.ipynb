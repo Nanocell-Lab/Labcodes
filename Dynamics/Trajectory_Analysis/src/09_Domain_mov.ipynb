{
 "cells": [
  {
   "cell_type": "markdown",
   "metadata": {},
   "source": [
    "# Domain Movement"
   ]
  },
  {
   "cell_type": "markdown",
   "metadata": {},
   "source": [
    "*/ Update July 2018 /*\n",
    "by Alexis Salas-Burgos PhD\n",
    "\n",
    "## MDAnalysis \n",
    "from https://www.mdanalysis.org\n",
    "\n",
    "## MDTraj\n",
    "from http://mdtraj.org\n",
    "\n",
    "## PyTraj\n",
    "from https://amber-md.github.io/pytraj/latest/index.html\n",
    "\n",
    "## Prody\n",
    "from http://prody.csb.pitt.edu"
   ]
  },
  {
   "cell_type": "code",
   "execution_count": 2,
   "metadata": {},
   "outputs": [
    {
     "name": "stderr",
     "output_type": "stream",
     "text": [
      "/usr/local/anaconda3/envs/bio/lib/python3.6/site-packages/MDAnalysis/due.py:88: UserWarning: No module named 'duecredit'\n",
      "  warnings.warn(str(err))\n"
     ]
    }
   ],
   "source": [
    "import MDAnalysis as mda\n",
    "import mdtraj as mdt\n",
    "import pytraj as mdp\n",
    "import prody as pd"
   ]
  },
  {
   "cell_type": "code",
   "execution_count": 4,
   "metadata": {},
   "outputs": [],
   "source": [
    "DCD = \"tutorial/ubq_wb_eq.dcd\"\n",
    "PSF = \"tutorial/ubq_wb.psf\"\n",
    "PDB = \"tutorial/ubq_wb.pdb\"\n",
    "# load trajectory\n",
    "#from MDAnalysis.tests.datafiles import PSF, DCD, PDB\n",
    "## MDAnalysis\n",
    "u = mda.Universe(PSF, DCD)\n",
    "## MDTraj\n",
    "t = mdt.load(DCD, top=PSF)\n",
    "## PyTraj\n",
    "p = mdp.load(DCD, top=PSF)"
   ]
  },
  {
   "cell_type": "code",
   "execution_count": 6,
   "metadata": {},
   "outputs": [
    {
     "data": {
      "image/png": "[encoded data removed]",
      "text/plain": [
       "<Figure size 432x216 with 2 Axes>"
      ]
     },
     "metadata": {},
     "output_type": "display_data"
    }
   ],
   "source": [
    "## MDAnalysis\n",
    "import numpy as np\n",
    "from numpy.linalg import norm\n",
    "\n",
    "def theta_NMP(u):\n",
    "    \"\"\"Calculate the NMP-CORE angle for E. coli AdK in degrees\"\"\"\n",
    "    C = u.select_atoms(\"resid 115-125 and (backbone or name CB)\").center_of_geometry()\n",
    "    B = u.select_atoms(\"resid 90-100 and (backbone or name CB)\").center_of_geometry()\n",
    "    A = u.select_atoms(\"resid 35-55 and (backbone or name CB)\").center_of_geometry()\n",
    "    BA = A - B\n",
    "    BC = C - B\n",
    "    theta = np.arccos(np.dot(BA, BC)/(norm(BA)*norm(BC)))\n",
    "    return np.rad2deg(theta)\n",
    "\n",
    "def theta_LID(u):\n",
    "    \"\"\"Calculate the LID-CORE angle for E. coli AdK in degrees\"\"\"\n",
    "    C = u.select_atoms(\"resid 179-185 and (backbone or name CB)\").center_of_geometry()\n",
    "    B = u.select_atoms(\"resid 115-125 and (backbone or name CB)\").center_of_geometry()\n",
    "    A = u.select_atoms(\"resid 125-153 and (backbone or name CB)\").center_of_geometry()\n",
    "    BA = A - B\n",
    "    BC = C - B\n",
    "    theta = np.arccos(np.dot(BA, BC)/(norm(BA)*norm(BC)))\n",
    "    return np.rad2deg(theta)\n",
    "\n",
    "if __name__ == \"__main__\":\n",
    "    import MDAnalysis\n",
    "    from MDAnalysis.tests.datafiles import PSF, DCD\n",
    "    import matplotlib\n",
    "    import matplotlib.pyplot as plt\n",
    "\n",
    "    u = MDAnalysis.Universe(PSF, DCD)\n",
    "    data = np.array([(u.trajectory.time, theta_NMP(u), theta_LID(u)) for ts in u.trajectory])\n",
    "    time, NMP, LID = data.T\n",
    "\n",
    "\n",
    "    # plotting\n",
    "    degreeFormatter = matplotlib.ticker.FormatStrFormatter(r\"%g$^\\circ$\")\n",
    "    fig = plt.figure(figsize=(6,3))\n",
    "\n",
    "    ax1 = fig.add_subplot(121)\n",
    "    ax1.plot(time, NMP, 'b-', lw=2, label=r\"$\\theta_{\\mathrm{NMP}}$\")\n",
    "    ax1.plot(time, LID, 'r-', lw=2, label=r\"$\\theta_{\\mathrm{LID}}$\")\n",
    "    ax1.set_xlabel(r\"time $t$ (ps)\")\n",
    "    ax1.set_ylabel(r\"angle $\\theta$\")\n",
    "    ax1.yaxis.set_major_formatter(degreeFormatter)\n",
    "    ax1.legend(loc=\"best\")\n",
    "\n",
    "    ax2 = fig.add_subplot(122)\n",
    "    ax2.plot(NMP, LID, 'k-', lw=3)\n",
    "    ax2.set_xlabel(r\"NMP-CORE angle $\\theta_{\\mathrm{NMP}}$\")\n",
    "    ax2.set_ylabel(r\"LID-CORE angle $\\theta_{\\mathrm{LID}}$\")\n",
    "    ax2.xaxis.set_major_formatter(degreeFormatter)\n",
    "    ax2.yaxis.set_major_formatter(degreeFormatter)\n",
    "    ax2.yaxis.tick_right()\n",
    "    ax2.yaxis.set_label_position(\"right\")\n",
    "\n",
    "    fig.subplots_adjust(left=0.12, right=0.88, bottom=0.2, wspace=0.15)\n",
    "\n",
    "    for ext in ('svg', 'pdf', 'png'):\n",
    "        fig.savefig(\"NMP_LID_angle_projection.{0}\".format(ext))"
   ]
  }
 ],
 "metadata": {
  "kernelspec": {
   "display_name": "Python 3",
   "language": "python",
   "name": "python3"
  },
  "language_info": {
   "codemirror_mode": {
    "name": "ipython",
    "version": 3
   },
   "file_extension": ".py",
   "mimetype": "text/x-python",
   "name": "python",
   "nbconvert_exporter": "python",
   "pygments_lexer": "ipython3",
   "version": "3.6.6"
  }
 },
 "nbformat": 4,
 "nbformat_minor": 2
}
